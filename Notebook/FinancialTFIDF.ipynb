{
 "cells": [
  {
   "cell_type": "code",
   "execution_count": 1,
   "metadata": {},
   "outputs": [],
   "source": [
    "import pandas as pd\n",
    "import numpy as np\n",
    "import seaborn as sns\n",
    "import matplotlib as plt\n",
    "\n",
    "from sklearn.feature_extraction.text import TfidfVectorizer\n",
    "from sklearn.feature_extraction.text import CountVectorizer\n",
    "\n",
    "\n",
    "from sklearn.pipeline import Pipeline\n"
   ]
  },
  {
   "cell_type": "code",
   "execution_count": 2,
   "metadata": {},
   "outputs": [],
   "source": [
    "df_fin_phrase = pd.read_csv(\"../Data/Prepared/fin_phrase_bank_clean.csv\")\n",
    "# df_tweets_train = pd.read_csv(\"../Data/Prepared/Tweet_train_clean.csv\")\n",
    "# df_tweets_valid = pd.read_csv(\"../Data/Prepared/Tweet_valid_clean.csv\")"
   ]
  },
  {
   "cell_type": "code",
   "execution_count": 37,
   "metadata": {},
   "outputs": [],
   "source": [
    "# Concatenate all text into a single string\n",
    "all_text = ' '.join(df_fin_phrase[\"clean_text\"].fillna(str(0)))\n",
    "\n",
    "# Tokenize the string to extract individual words\n",
    "words = all_text.split()\n",
    "\n",
    "# Convert the list of words into a set to get unique words\n",
    "unique_words = set(words)\n",
    "\n",
    "# Convert the set back to a list if needed\n",
    "unique_words_list = list(unique_words)"
   ]
  },
  {
   "cell_type": "code",
   "execution_count": 43,
   "metadata": {},
   "outputs": [
    {
     "data": {
      "text/plain": [
       "8546"
      ]
     },
     "execution_count": 43,
     "metadata": {},
     "output_type": "execute_result"
    }
   ],
   "source": [
    "len(unique_words_list)"
   ]
  },
  {
   "cell_type": "code",
   "execution_count": 57,
   "metadata": {},
   "outputs": [],
   "source": [
    "# Step 1: Initialize the TF-IDF vectorizer\n",
    "tfidf_vectorizer = TfidfVectorizer(\n",
    "    stop_words='english',  # Remove common English stopwords\n",
    "    lowercase=True,        # Convert all text to lowercase\n",
    "    min_df=2               # Ignore terms that appear in fewer than 2 documents\n",
    ")\n",
    "\n",
    "# Step 2: Prepare the text data\n",
    "# Extract the text data from the DataFrame column \"clean_text\"\n",
    "# Fill any missing values with the string \"0\"\n",
    "phrases = df_fin_phrase[\"clean_text\"].fillna(str(0))\n",
    "\n",
    "# Step 3: Compute TF-IDF values\n",
    "# Fit and transform the text data using the TF-IDF vectorizer\n",
    "tfidf_vector = tfidf_vectorizer.fit_transform(phrases)\n",
    "\n",
    "# Step 4: Convert TF-IDF matrix to DataFrame\n",
    "# Create a DataFrame to store the TF-IDF matrix\n",
    "tfidf_df = pd.DataFrame(tfidf_vector.toarray(), columns=tfidf_vectorizer.get_feature_names_out())\n",
    "\n",
    "# Step 5: Count the number of documents each term appears in\n",
    "# Filter the TF-IDF DataFrame to count non-zero values (documents with each term)\n",
    "filtered_tfidf_df = (tfidf_df > 0).sum()\n",
    "\n",
    "# Step 6: Convert document frequency counts to DataFrame\n",
    "# Create a DataFrame to store the document frequency counts\n",
    "df = filtered_tfidf_df.to_frame()\n",
    "\n",
    "# Rename the column to \"Count\"\n",
    "df.columns = [\"Count\"]\n",
    "\n",
    "# Now, df contains the document frequency counts for each term\n",
    "df.to_csv(\"../Data/Prepared/fin_phrase_TF_IDF.csv\")"
   ]
  }
 ],
 "metadata": {
  "kernelspec": {
   "display_name": "DDB",
   "language": "python",
   "name": "python3"
  },
  "language_info": {
   "codemirror_mode": {
    "name": "ipython",
    "version": 3
   },
   "file_extension": ".py",
   "mimetype": "text/x-python",
   "name": "python",
   "nbconvert_exporter": "python",
   "pygments_lexer": "ipython3",
   "version": "3.11.4"
  }
 },
 "nbformat": 4,
 "nbformat_minor": 2
}
