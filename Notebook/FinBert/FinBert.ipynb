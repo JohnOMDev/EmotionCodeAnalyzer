{
 "cells": [
  {
   "cell_type": "markdown",
   "id": "609a3573",
   "metadata": {},
   "source": [
    "# FinBert Model Classification"
   ]
  },
  {
   "cell_type": "code",
   "execution_count": null,
   "id": "30391482",
   "metadata": {},
   "outputs": [],
   "source": [
    "!pip install transformers"
   ]
  },
  {
   "cell_type": "code",
   "execution_count": 1,
   "id": "c6ae3af3",
   "metadata": {},
   "outputs": [
    {
     "name": "stderr",
     "output_type": "stream",
     "text": [
      "/Users/johnomole/anaconda3/lib/python3.10/site-packages/tqdm/auto.py:22: TqdmWarning: IProgress not found. Please update jupyter and ipywidgets. See https://ipywidgets.readthedocs.io/en/stable/user_install.html\n",
      "  from .autonotebook import tqdm as notebook_tqdm\n"
     ]
    }
   ],
   "source": [
    "from transformers import AutoTokenizer, AutoModelForSequenceClassification\n",
    "from transformers import pipeline\n",
    "import pandas as pd\n",
    "import glob"
   ]
  },
  {
   "cell_type": "code",
   "execution_count": 2,
   "id": "6e4cd891",
   "metadata": {},
   "outputs": [],
   "source": [
    "tokenizer = AutoTokenizer.from_pretrained(\"ProsusAI/finbert\")\n",
    "model = AutoModelForSequenceClassification.from_pretrained(\"ProsusAI/finbert\")"
   ]
  },
  {
   "cell_type": "code",
   "execution_count": 3,
   "id": "325e12ab",
   "metadata": {},
   "outputs": [],
   "source": [
    "pipe = pipeline(\"text-classification\", model=model, tokenizer=tokenizer)"
   ]
  },
  {
   "cell_type": "code",
   "execution_count": 4,
   "id": "2ec9e935",
   "metadata": {},
   "outputs": [],
   "source": [
    "file_path = '../../Data/Prepared/CleanDatasets/'"
   ]
  },
  {
   "cell_type": "code",
   "execution_count": 5,
   "id": "c947fd91",
   "metadata": {},
   "outputs": [],
   "source": [
    "files = glob.glob(f'{file_path}*.csv')"
   ]
  },
  {
   "cell_type": "code",
   "execution_count": 6,
   "id": "7f883033",
   "metadata": {},
   "outputs": [],
   "source": [
    "df = pd.read_csv('../../Data/Prepared/CleanDatasets/Tweet_valid_clean.csv')"
   ]
  },
  {
   "cell_type": "code",
   "execution_count": 7,
   "id": "a8448465",
   "metadata": {},
   "outputs": [],
   "source": [
    "df['label'] = df['clean_text'].apply(lambda x: pipe(x)[0].get('label'))"
   ]
  },
  {
   "cell_type": "code",
   "execution_count": 8,
   "id": "ab9c9604",
   "metadata": {},
   "outputs": [],
   "source": [
    "df['score'] = df['clean_text'].apply(lambda x: pipe(x)[0].get('score'))"
   ]
  },
  {
   "cell_type": "code",
   "execution_count": 9,
   "id": "7af3e9f6",
   "metadata": {},
   "outputs": [
    {
     "data": {
      "text/html": [
       "<div>\n",
       "<style scoped>\n",
       "    .dataframe tbody tr th:only-of-type {\n",
       "        vertical-align: middle;\n",
       "    }\n",
       "\n",
       "    .dataframe tbody tr th {\n",
       "        vertical-align: top;\n",
       "    }\n",
       "\n",
       "    .dataframe thead th {\n",
       "        text-align: right;\n",
       "    }\n",
       "</style>\n",
       "<table border=\"1\" class=\"dataframe\">\n",
       "  <thead>\n",
       "    <tr style=\"text-align: right;\">\n",
       "      <th></th>\n",
       "      <th>text</th>\n",
       "      <th>label</th>\n",
       "      <th>clean_text</th>\n",
       "      <th>topic</th>\n",
       "      <th>score</th>\n",
       "    </tr>\n",
       "  </thead>\n",
       "  <tbody>\n",
       "    <tr>\n",
       "      <th>0</th>\n",
       "      <td>Analyst call of the day for @CNBCPro subscribe...</td>\n",
       "      <td>neutral</td>\n",
       "      <td>analyst call day cnbcpro subscriber goldman sa...</td>\n",
       "      <td>Analyst Update</td>\n",
       "      <td>0.859993</td>\n",
       "    </tr>\n",
       "    <tr>\n",
       "      <th>1</th>\n",
       "      <td>Loop upgrades CSX to buy, says it's a good pla...</td>\n",
       "      <td>neutral</td>\n",
       "      <td>loop upgrade csx buy say good place park money...</td>\n",
       "      <td>Analyst Update</td>\n",
       "      <td>0.873757</td>\n",
       "    </tr>\n",
       "    <tr>\n",
       "      <th>2</th>\n",
       "      <td>BofA believes we're already in a recession — a...</td>\n",
       "      <td>neutral</td>\n",
       "      <td>bofa belief already recession say stock take b...</td>\n",
       "      <td>Analyst Update</td>\n",
       "      <td>0.778339</td>\n",
       "    </tr>\n",
       "    <tr>\n",
       "      <th>3</th>\n",
       "      <td>JPMorgan sees these derivative plays as best w...</td>\n",
       "      <td>neutral</td>\n",
       "      <td>jpmorgan see derivative play best way bet elec...</td>\n",
       "      <td>Analyst Update</td>\n",
       "      <td>0.923112</td>\n",
       "    </tr>\n",
       "    <tr>\n",
       "      <th>4</th>\n",
       "      <td>Morgan Stanley's Huberty sees Apple earnings m...</td>\n",
       "      <td>neutral</td>\n",
       "      <td>morgan stanley huberty see apple earnings miss...</td>\n",
       "      <td>Analyst Update</td>\n",
       "      <td>0.815423</td>\n",
       "    </tr>\n",
       "  </tbody>\n",
       "</table>\n",
       "</div>"
      ],
      "text/plain": [
       "                                                text    label  \\\n",
       "0  Analyst call of the day for @CNBCPro subscribe...  neutral   \n",
       "1  Loop upgrades CSX to buy, says it's a good pla...  neutral   \n",
       "2  BofA believes we're already in a recession — a...  neutral   \n",
       "3  JPMorgan sees these derivative plays as best w...  neutral   \n",
       "4  Morgan Stanley's Huberty sees Apple earnings m...  neutral   \n",
       "\n",
       "                                          clean_text           topic     score  \n",
       "0  analyst call day cnbcpro subscriber goldman sa...  Analyst Update  0.859993  \n",
       "1  loop upgrade csx buy say good place park money...  Analyst Update  0.873757  \n",
       "2  bofa belief already recession say stock take b...  Analyst Update  0.778339  \n",
       "3  jpmorgan see derivative play best way bet elec...  Analyst Update  0.923112  \n",
       "4  morgan stanley huberty see apple earnings miss...  Analyst Update  0.815423  "
      ]
     },
     "execution_count": 9,
     "metadata": {},
     "output_type": "execute_result"
    }
   ],
   "source": [
    "df.head(5)"
   ]
  },
  {
   "cell_type": "code",
   "execution_count": 10,
   "id": "47187597",
   "metadata": {},
   "outputs": [],
   "source": [
    "df.to_csv(\"../../Data/Prepared/FinBert/prediction_tweet_validation.csv\")"
   ]
  },
  {
   "cell_type": "code",
   "execution_count": null,
   "id": "8cdc2444",
   "metadata": {},
   "outputs": [],
   "source": []
  }
 ],
 "metadata": {
  "kernelspec": {
   "display_name": "Python 3 (ipykernel)",
   "language": "python",
   "name": "python3"
  },
  "language_info": {
   "codemirror_mode": {
    "name": "ipython",
    "version": 3
   },
   "file_extension": ".py",
   "mimetype": "text/x-python",
   "name": "python",
   "nbconvert_exporter": "python",
   "pygments_lexer": "ipython3",
   "version": "3.10.9"
  }
 },
 "nbformat": 4,
 "nbformat_minor": 5
}
