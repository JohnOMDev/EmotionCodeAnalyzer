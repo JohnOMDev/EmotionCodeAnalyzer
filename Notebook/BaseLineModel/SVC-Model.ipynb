{
 "cells": [
  {
   "cell_type": "code",
   "execution_count": null,
   "id": "b2d38bc0",
   "metadata": {},
   "outputs": [],
   "source": []
  },
  {
   "cell_type": "code",
   "execution_count": 18,
   "id": "8ad844af",
   "metadata": {},
   "outputs": [],
   "source": [
    "# Sentiment Classifier"
   ]
  },
  {
   "cell_type": "markdown",
   "id": "2862ab40",
   "metadata": {},
   "source": [
    "\n",
    "re.sub(r'@[A-Za-z0-9]+', '', text)\n",
    "re.sub(r'#', '', text)\n",
    "re.sub(r'RT[\\s]+', '', text)\n",
    "re.sub(r'https?:\\/\\/\\S+', '', text)"
   ]
  },
  {
   "cell_type": "code",
   "execution_count": null,
   "id": "b12b8dce",
   "metadata": {},
   "outputs": [],
   "source": []
  },
  {
   "cell_type": "code",
   "execution_count": 19,
   "id": "036768ff",
   "metadata": {},
   "outputs": [],
   "source": [
    "import pandas as pd\n",
    "from sklearn.feature_extraction.text import TfidfVectorizer\n",
    "from sklearn.model_selection import train_test_split\n",
    "import time\n",
    "from sklearn import svm\n",
    "from sklearn.metrics import classification_report\n",
    "import pickle"
   ]
  },
  {
   "cell_type": "code",
   "execution_count": 20,
   "id": "33cd89f8",
   "metadata": {},
   "outputs": [],
   "source": [
    "df_fin_phrase = pd.read_csv(\"../../Data/Prepared/CleanDatasets/fin_phrase_bank_clean.csv\")"
   ]
  },
  {
   "cell_type": "code",
   "execution_count": 21,
   "id": "156aa084",
   "metadata": {},
   "outputs": [
    {
     "data": {
      "text/html": [
       "<div>\n",
       "<style scoped>\n",
       "    .dataframe tbody tr th:only-of-type {\n",
       "        vertical-align: middle;\n",
       "    }\n",
       "\n",
       "    .dataframe tbody tr th {\n",
       "        vertical-align: top;\n",
       "    }\n",
       "\n",
       "    .dataframe thead th {\n",
       "        text-align: right;\n",
       "    }\n",
       "</style>\n",
       "<table border=\"1\" class=\"dataframe\">\n",
       "  <thead>\n",
       "    <tr style=\"text-align: right;\">\n",
       "      <th></th>\n",
       "      <th>sentence</th>\n",
       "      <th>label</th>\n",
       "      <th>clean_text</th>\n",
       "      <th>sentiment</th>\n",
       "    </tr>\n",
       "  </thead>\n",
       "  <tbody>\n",
       "    <tr>\n",
       "      <th>0</th>\n",
       "      <td>According to Gran , the company has no plans t...</td>\n",
       "      <td>1</td>\n",
       "      <td>according gran company plan move production ru...</td>\n",
       "      <td>Neutral</td>\n",
       "    </tr>\n",
       "    <tr>\n",
       "      <th>1</th>\n",
       "      <td>Technopolis plans to develop in stages an area...</td>\n",
       "      <td>1</td>\n",
       "      <td>technopolis plan develop stage area le square ...</td>\n",
       "      <td>Neutral</td>\n",
       "    </tr>\n",
       "    <tr>\n",
       "      <th>2</th>\n",
       "      <td>The international electronic industry company ...</td>\n",
       "      <td>0</td>\n",
       "      <td>international electronic industry company elco...</td>\n",
       "      <td>Negative</td>\n",
       "    </tr>\n",
       "    <tr>\n",
       "      <th>3</th>\n",
       "      <td>With the new production plant the company woul...</td>\n",
       "      <td>2</td>\n",
       "      <td>new production plant company would increase ca...</td>\n",
       "      <td>Positive</td>\n",
       "    </tr>\n",
       "    <tr>\n",
       "      <th>4</th>\n",
       "      <td>According to the company 's updated strategy f...</td>\n",
       "      <td>2</td>\n",
       "      <td>according company updated strategy year baswar...</td>\n",
       "      <td>Positive</td>\n",
       "    </tr>\n",
       "  </tbody>\n",
       "</table>\n",
       "</div>"
      ],
      "text/plain": [
       "                                            sentence  label  \\\n",
       "0  According to Gran , the company has no plans t...      1   \n",
       "1  Technopolis plans to develop in stages an area...      1   \n",
       "2  The international electronic industry company ...      0   \n",
       "3  With the new production plant the company woul...      2   \n",
       "4  According to the company 's updated strategy f...      2   \n",
       "\n",
       "                                          clean_text sentiment  \n",
       "0  according gran company plan move production ru...   Neutral  \n",
       "1  technopolis plan develop stage area le square ...   Neutral  \n",
       "2  international electronic industry company elco...  Negative  \n",
       "3  new production plant company would increase ca...  Positive  \n",
       "4  according company updated strategy year baswar...  Positive  "
      ]
     },
     "execution_count": 21,
     "metadata": {},
     "output_type": "execute_result"
    }
   ],
   "source": [
    "df_fin_phrase.head(5)"
   ]
  },
  {
   "cell_type": "code",
   "execution_count": 22,
   "id": "1cd82aff",
   "metadata": {},
   "outputs": [
    {
     "data": {
      "text/plain": [
       "sentiment\n",
       "Neutral     2879\n",
       "Positive    1363\n",
       "Negative     604\n",
       "Name: count, dtype: int64"
      ]
     },
     "execution_count": 22,
     "metadata": {},
     "output_type": "execute_result"
    }
   ],
   "source": [
    "df_fin_phrase['sentiment'].value_counts()"
   ]
  },
  {
   "cell_type": "code",
   "execution_count": 23,
   "id": "417b7643",
   "metadata": {},
   "outputs": [],
   "source": [
    "df_fin_phrase.dropna(inplace=True)"
   ]
  },
  {
   "cell_type": "markdown",
   "id": "6359f342",
   "metadata": {},
   "source": [
    "## Simple Random Sample"
   ]
  },
  {
   "cell_type": "code",
   "execution_count": 24,
   "id": "b7c1eadc",
   "metadata": {},
   "outputs": [],
   "source": [
    "df_randomised = df_fin_phrase.sample(frac=1)"
   ]
  },
  {
   "cell_type": "code",
   "execution_count": 25,
   "id": "27a5bc20",
   "metadata": {},
   "outputs": [],
   "source": [
    "train_rate = 0.90"
   ]
  },
  {
   "cell_type": "code",
   "execution_count": 26,
   "id": "7900a7e1",
   "metadata": {},
   "outputs": [
    {
     "data": {
      "text/html": [
       "<div>\n",
       "<style scoped>\n",
       "    .dataframe tbody tr th:only-of-type {\n",
       "        vertical-align: middle;\n",
       "    }\n",
       "\n",
       "    .dataframe tbody tr th {\n",
       "        vertical-align: top;\n",
       "    }\n",
       "\n",
       "    .dataframe thead th {\n",
       "        text-align: right;\n",
       "    }\n",
       "</style>\n",
       "<table border=\"1\" class=\"dataframe\">\n",
       "  <thead>\n",
       "    <tr style=\"text-align: right;\">\n",
       "      <th></th>\n",
       "      <th>sentence</th>\n",
       "      <th>label</th>\n",
       "      <th>clean_text</th>\n",
       "      <th>sentiment</th>\n",
       "    </tr>\n",
       "  </thead>\n",
       "  <tbody>\n",
       "    <tr>\n",
       "      <th>3748</th>\n",
       "      <td>Stora is due to release its fourth-quarter and...</td>\n",
       "      <td>1</td>\n",
       "      <td>stora due release fourth quarter full year ear...</td>\n",
       "      <td>Neutral</td>\n",
       "    </tr>\n",
       "    <tr>\n",
       "      <th>2328</th>\n",
       "      <td>28 January 2011 - Finnish technology center op...</td>\n",
       "      <td>1</td>\n",
       "      <td>january finnish technology center operator tec...</td>\n",
       "      <td>Neutral</td>\n",
       "    </tr>\n",
       "    <tr>\n",
       "      <th>4077</th>\n",
       "      <td>The tightened competition situation in the pro...</td>\n",
       "      <td>0</td>\n",
       "      <td>tightened competition situation production aut...</td>\n",
       "      <td>Negative</td>\n",
       "    </tr>\n",
       "    <tr>\n",
       "      <th>413</th>\n",
       "      <td>4 ) Complete name of the shareholder : Otto He...</td>\n",
       "      <td>1</td>\n",
       "      <td>complete name shareholder otto henrik bernhard...</td>\n",
       "      <td>Neutral</td>\n",
       "    </tr>\n",
       "    <tr>\n",
       "      <th>1167</th>\n",
       "      <td>Also , a six-year historic analysis is provide...</td>\n",
       "      <td>1</td>\n",
       "      <td>also six year historic analysis provided market</td>\n",
       "      <td>Neutral</td>\n",
       "    </tr>\n",
       "    <tr>\n",
       "      <th>...</th>\n",
       "      <td>...</td>\n",
       "      <td>...</td>\n",
       "      <td>...</td>\n",
       "      <td>...</td>\n",
       "    </tr>\n",
       "    <tr>\n",
       "      <th>4260</th>\n",
       "      <td>The largest restructuring is planned for Italy...</td>\n",
       "      <td>0</td>\n",
       "      <td>largest restructuring planned italy negotiatio...</td>\n",
       "      <td>Negative</td>\n",
       "    </tr>\n",
       "    <tr>\n",
       "      <th>2933</th>\n",
       "      <td>Helsinki 19 May 2010 - Finnish company Lemmink...</td>\n",
       "      <td>1</td>\n",
       "      <td>helsinki may finnish company lemminkainen oyj ...</td>\n",
       "      <td>Neutral</td>\n",
       "    </tr>\n",
       "    <tr>\n",
       "      <th>4394</th>\n",
       "      <td>During the strike , Finnair estimates to incur...</td>\n",
       "      <td>0</td>\n",
       "      <td>strike finnair estimate incur net loss eur eur...</td>\n",
       "      <td>Negative</td>\n",
       "    </tr>\n",
       "    <tr>\n",
       "      <th>2410</th>\n",
       "      <td>As part of the reorganisation measures that wi...</td>\n",
       "      <td>0</td>\n",
       "      <td>part reorganisation measure take place spring ...</td>\n",
       "      <td>Negative</td>\n",
       "    </tr>\n",
       "    <tr>\n",
       "      <th>541</th>\n",
       "      <td>Operating profit was EUR 11.07 mn , up from EU...</td>\n",
       "      <td>2</td>\n",
       "      <td>operating profit eur mn eur mn</td>\n",
       "      <td>Positive</td>\n",
       "    </tr>\n",
       "  </tbody>\n",
       "</table>\n",
       "<p>4360 rows × 4 columns</p>\n",
       "</div>"
      ],
      "text/plain": [
       "                                               sentence  label  \\\n",
       "3748  Stora is due to release its fourth-quarter and...      1   \n",
       "2328  28 January 2011 - Finnish technology center op...      1   \n",
       "4077  The tightened competition situation in the pro...      0   \n",
       "413   4 ) Complete name of the shareholder : Otto He...      1   \n",
       "1167  Also , a six-year historic analysis is provide...      1   \n",
       "...                                                 ...    ...   \n",
       "4260  The largest restructuring is planned for Italy...      0   \n",
       "2933  Helsinki 19 May 2010 - Finnish company Lemmink...      1   \n",
       "4394  During the strike , Finnair estimates to incur...      0   \n",
       "2410  As part of the reorganisation measures that wi...      0   \n",
       "541   Operating profit was EUR 11.07 mn , up from EU...      2   \n",
       "\n",
       "                                             clean_text sentiment  \n",
       "3748  stora due release fourth quarter full year ear...   Neutral  \n",
       "2328  january finnish technology center operator tec...   Neutral  \n",
       "4077  tightened competition situation production aut...  Negative  \n",
       "413   complete name shareholder otto henrik bernhard...   Neutral  \n",
       "1167    also six year historic analysis provided market   Neutral  \n",
       "...                                                 ...       ...  \n",
       "4260  largest restructuring planned italy negotiatio...  Negative  \n",
       "2933  helsinki may finnish company lemminkainen oyj ...   Neutral  \n",
       "4394  strike finnair estimate incur net loss eur eur...  Negative  \n",
       "2410  part reorganisation measure take place spring ...  Negative  \n",
       "541                      operating profit eur mn eur mn  Positive  \n",
       "\n",
       "[4360 rows x 4 columns]"
      ]
     },
     "execution_count": 26,
     "metadata": {},
     "output_type": "execute_result"
    }
   ],
   "source": [
    "df_train = df_randomised[:int(len(df_randomised) * train_rate)]\n",
    "df_train"
   ]
  },
  {
   "cell_type": "code",
   "execution_count": 27,
   "id": "f28aaa9d",
   "metadata": {},
   "outputs": [
    {
     "data": {
      "text/html": [
       "<div>\n",
       "<style scoped>\n",
       "    .dataframe tbody tr th:only-of-type {\n",
       "        vertical-align: middle;\n",
       "    }\n",
       "\n",
       "    .dataframe tbody tr th {\n",
       "        vertical-align: top;\n",
       "    }\n",
       "\n",
       "    .dataframe thead th {\n",
       "        text-align: right;\n",
       "    }\n",
       "</style>\n",
       "<table border=\"1\" class=\"dataframe\">\n",
       "  <thead>\n",
       "    <tr style=\"text-align: right;\">\n",
       "      <th></th>\n",
       "      <th>sentence</th>\n",
       "      <th>label</th>\n",
       "      <th>clean_text</th>\n",
       "      <th>sentiment</th>\n",
       "    </tr>\n",
       "  </thead>\n",
       "  <tbody>\n",
       "    <tr>\n",
       "      <th>3640</th>\n",
       "      <td>In the Czech Republic , the profiling unit at ...</td>\n",
       "      <td>1</td>\n",
       "      <td>czech republic profiling unit ostrava closed m...</td>\n",
       "      <td>Neutral</td>\n",
       "    </tr>\n",
       "    <tr>\n",
       "      <th>2001</th>\n",
       "      <td>A &amp; euro ; 4.8 million investment in 13.6 % of...</td>\n",
       "      <td>2</td>\n",
       "      <td>euro million investment lewa netted deutsche b...</td>\n",
       "      <td>Positive</td>\n",
       "    </tr>\n",
       "    <tr>\n",
       "      <th>4187</th>\n",
       "      <td>EB announced in its stock exchange release on ...</td>\n",
       "      <td>0</td>\n",
       "      <td>eb announced stock exchange release november t...</td>\n",
       "      <td>Negative</td>\n",
       "    </tr>\n",
       "    <tr>\n",
       "      <th>3600</th>\n",
       "      <td>For 2009 , net profit was EUR3m and the compan...</td>\n",
       "      <td>1</td>\n",
       "      <td>net profit eur company paid dividend eur apiece</td>\n",
       "      <td>Neutral</td>\n",
       "    </tr>\n",
       "    <tr>\n",
       "      <th>635</th>\n",
       "      <td>The Vuokatti unit will be developed to focus e...</td>\n",
       "      <td>1</td>\n",
       "      <td>vuokatti unit developed focus especially manuf...</td>\n",
       "      <td>Neutral</td>\n",
       "    </tr>\n",
       "    <tr>\n",
       "      <th>...</th>\n",
       "      <td>...</td>\n",
       "      <td>...</td>\n",
       "      <td>...</td>\n",
       "      <td>...</td>\n",
       "    </tr>\n",
       "    <tr>\n",
       "      <th>1148</th>\n",
       "      <td>Finnish Suominen Corporation that makes wet wi...</td>\n",
       "      <td>0</td>\n",
       "      <td>finnish suominen corporation make wet wipe non...</td>\n",
       "      <td>Negative</td>\n",
       "    </tr>\n",
       "    <tr>\n",
       "      <th>2689</th>\n",
       "      <td>There have been 15 initial public offerings an...</td>\n",
       "      <td>1</td>\n",
       "      <td>initial public offering announced sweden year ...</td>\n",
       "      <td>Neutral</td>\n",
       "    </tr>\n",
       "    <tr>\n",
       "      <th>4834</th>\n",
       "      <td>Hobby Hall 's sales decrease 26 pct due to imp...</td>\n",
       "      <td>0</td>\n",
       "      <td>hobby hall sale decrease pct due implementing ...</td>\n",
       "      <td>Negative</td>\n",
       "    </tr>\n",
       "    <tr>\n",
       "      <th>4677</th>\n",
       "      <td>Finnish glass technology company Glaston Oyj A...</td>\n",
       "      <td>0</td>\n",
       "      <td>finnish glass technology company glaston oyj a...</td>\n",
       "      <td>Negative</td>\n",
       "    </tr>\n",
       "    <tr>\n",
       "      <th>4000</th>\n",
       "      <td>- The Group 's sales during the period were EU...</td>\n",
       "      <td>0</td>\n",
       "      <td>group sale period eur million eur million resu...</td>\n",
       "      <td>Negative</td>\n",
       "    </tr>\n",
       "  </tbody>\n",
       "</table>\n",
       "<p>485 rows × 4 columns</p>\n",
       "</div>"
      ],
      "text/plain": [
       "                                               sentence  label  \\\n",
       "3640  In the Czech Republic , the profiling unit at ...      1   \n",
       "2001  A & euro ; 4.8 million investment in 13.6 % of...      2   \n",
       "4187  EB announced in its stock exchange release on ...      0   \n",
       "3600  For 2009 , net profit was EUR3m and the compan...      1   \n",
       "635   The Vuokatti unit will be developed to focus e...      1   \n",
       "...                                                 ...    ...   \n",
       "1148  Finnish Suominen Corporation that makes wet wi...      0   \n",
       "2689  There have been 15 initial public offerings an...      1   \n",
       "4834  Hobby Hall 's sales decrease 26 pct due to imp...      0   \n",
       "4677  Finnish glass technology company Glaston Oyj A...      0   \n",
       "4000  - The Group 's sales during the period were EU...      0   \n",
       "\n",
       "                                             clean_text sentiment  \n",
       "3640  czech republic profiling unit ostrava closed m...   Neutral  \n",
       "2001  euro million investment lewa netted deutsche b...  Positive  \n",
       "4187  eb announced stock exchange release november t...  Negative  \n",
       "3600    net profit eur company paid dividend eur apiece   Neutral  \n",
       "635   vuokatti unit developed focus especially manuf...   Neutral  \n",
       "...                                                 ...       ...  \n",
       "1148  finnish suominen corporation make wet wipe non...  Negative  \n",
       "2689  initial public offering announced sweden year ...   Neutral  \n",
       "4834  hobby hall sale decrease pct due implementing ...  Negative  \n",
       "4677  finnish glass technology company glaston oyj a...  Negative  \n",
       "4000  group sale period eur million eur million resu...  Negative  \n",
       "\n",
       "[485 rows x 4 columns]"
      ]
     },
     "execution_count": 27,
     "metadata": {},
     "output_type": "execute_result"
    }
   ],
   "source": [
    "df_val = df_randomised[int(len(df_randomised) * train_rate):]\n",
    "df_val"
   ]
  },
  {
   "cell_type": "code",
   "execution_count": 28,
   "id": "0b499290",
   "metadata": {},
   "outputs": [],
   "source": [
    "\n",
    "# Create feature vectors\n",
    "vectorizer = TfidfVectorizer()\n"
   ]
  },
  {
   "cell_type": "code",
   "execution_count": null,
   "id": "b7c14973",
   "metadata": {},
   "outputs": [],
   "source": []
  },
  {
   "cell_type": "code",
   "execution_count": 29,
   "id": "5d9bcc7d",
   "metadata": {},
   "outputs": [],
   "source": [
    "train_vectors = vectorizer.fit_transform(df_train['clean_text'])\n",
    "test_vectors = vectorizer.transform(df_val['clean_text'])"
   ]
  },
  {
   "cell_type": "code",
   "execution_count": null,
   "id": "932c05aa",
   "metadata": {},
   "outputs": [],
   "source": []
  },
  {
   "cell_type": "code",
   "execution_count": 30,
   "id": "3b34814f",
   "metadata": {},
   "outputs": [],
   "source": [
    "# Perform classification with SVM, kernel=linear\n",
    "classifier_linear = svm.SVC(kernel='linear')\n",
    "t0 = time.time()\n",
    "classifier_linear.fit(train_vectors, df_train['sentiment'].values)\n",
    "t1 = time.time()\n",
    "prediction_linear = classifier_linear.predict(test_vectors)\n",
    "t2 = time.time()\n",
    "time_linear_train = t1-t0\n",
    "time_linear_predict = t2-t1"
   ]
  },
  {
   "cell_type": "code",
   "execution_count": 31,
   "id": "8c40420a",
   "metadata": {},
   "outputs": [
    {
     "name": "stdout",
     "output_type": "stream",
     "text": [
      "Training time: 1.478134s; Prediction time: 0.107814s\n"
     ]
    }
   ],
   "source": [
    "# results\n",
    "print(\"Training time: %fs; Prediction time: %fs\" % (time_linear_train, time_linear_predict))\n",
    "report = classification_report(df_val[['sentiment']].values, prediction_linear, output_dict=True)"
   ]
  },
  {
   "cell_type": "code",
   "execution_count": 32,
   "id": "0504867a",
   "metadata": {},
   "outputs": [
    {
     "name": "stdout",
     "output_type": "stream",
     "text": [
      "neutral:  {'precision': 0.7214076246334311, 'recall': 0.9144981412639405, 'f1-score': 0.8065573770491803, 'support': 269.0}\n",
      "negative:  {'precision': 0.7906976744186046, 'recall': 0.4594594594594595, 'f1-score': 0.5811965811965812, 'support': 74.0}\n",
      "positive:  {'precision': 0.7029702970297029, 'recall': 0.5, 'f1-score': 0.5843621399176955, 'support': 142.0}\n"
     ]
    }
   ],
   "source": [
    "print('neutral: ', report['Neutral'])\n",
    "print('negative: ', report['Negative'])\n",
    "print('positive: ', report['Positive'])"
   ]
  },
  {
   "cell_type": "code",
   "execution_count": 33,
   "id": "938af385",
   "metadata": {},
   "outputs": [
    {
     "name": "stdout",
     "output_type": "stream",
     "text": [
      "['Positive']\n",
      "['Neutral']\n",
      "['Neutral']\n"
     ]
    }
   ],
   "source": [
    "sentences = ['growth is strong and we have plenty of liquidity.', \n",
    "               'there is a shortage of capital, and we need extra financing.', \n",
    "              'formulation patents might protect Vasotec to a limited extent.']\n",
    "for sen in sentences:\n",
    "    sentences_vector = vectorizer.transform([sen]) # vectorizing\n",
    "    print(classifier_linear.predict(sentences_vector))"
   ]
  },
  {
   "cell_type": "code",
   "execution_count": 34,
   "id": "61ce5e82",
   "metadata": {},
   "outputs": [],
   "source": [
    "df_stratified_train, df_stratified_val = train_test_split(df_fin_phrase, test_size=0.10, stratify=df_fin_phrase[['sentiment']].values)"
   ]
  },
  {
   "cell_type": "code",
   "execution_count": 35,
   "id": "be8013fe",
   "metadata": {},
   "outputs": [
    {
     "data": {
      "text/html": [
       "<div>\n",
       "<style scoped>\n",
       "    .dataframe tbody tr th:only-of-type {\n",
       "        vertical-align: middle;\n",
       "    }\n",
       "\n",
       "    .dataframe tbody tr th {\n",
       "        vertical-align: top;\n",
       "    }\n",
       "\n",
       "    .dataframe thead th {\n",
       "        text-align: right;\n",
       "    }\n",
       "</style>\n",
       "<table border=\"1\" class=\"dataframe\">\n",
       "  <thead>\n",
       "    <tr style=\"text-align: right;\">\n",
       "      <th></th>\n",
       "      <th>sentence</th>\n",
       "      <th>label</th>\n",
       "      <th>clean_text</th>\n",
       "      <th>sentiment</th>\n",
       "    </tr>\n",
       "  </thead>\n",
       "  <tbody>\n",
       "    <tr>\n",
       "      <th>510</th>\n",
       "      <td>The company plans to expand into the internati...</td>\n",
       "      <td>2</td>\n",
       "      <td>company plan expand international market subsi...</td>\n",
       "      <td>Positive</td>\n",
       "    </tr>\n",
       "    <tr>\n",
       "      <th>3223</th>\n",
       "      <td>The contracts between Raute Corporation and Mu...</td>\n",
       "      <td>1</td>\n",
       "      <td>contract raute corporation muling kemian wood ...</td>\n",
       "      <td>Neutral</td>\n",
       "    </tr>\n",
       "    <tr>\n",
       "      <th>560</th>\n",
       "      <td>Basware Corporation stock exchange release Aug...</td>\n",
       "      <td>2</td>\n",
       "      <td>basware corporation stock exchange release aug...</td>\n",
       "      <td>Positive</td>\n",
       "    </tr>\n",
       "    <tr>\n",
       "      <th>235</th>\n",
       "      <td>Net interest income increased by 4.5 % to EUR ...</td>\n",
       "      <td>2</td>\n",
       "      <td>net interest income increased eur mn eur mn</td>\n",
       "      <td>Positive</td>\n",
       "    </tr>\n",
       "    <tr>\n",
       "      <th>345</th>\n",
       "      <td>ADP News - Nov 18 , 2008 - Finnish AC drives m...</td>\n",
       "      <td>2</td>\n",
       "      <td>adp news nov finnish ac drive manufacturer vac...</td>\n",
       "      <td>Positive</td>\n",
       "    </tr>\n",
       "    <tr>\n",
       "      <th>...</th>\n",
       "      <td>...</td>\n",
       "      <td>...</td>\n",
       "      <td>...</td>\n",
       "      <td>...</td>\n",
       "    </tr>\n",
       "    <tr>\n",
       "      <th>3946</th>\n",
       "      <td>There have not been previous share subscriptio...</td>\n",
       "      <td>1</td>\n",
       "      <td>previous share subscription stock option</td>\n",
       "      <td>Neutral</td>\n",
       "    </tr>\n",
       "    <tr>\n",
       "      <th>228</th>\n",
       "      <td>( ADP News ) - Feb 12 , 2009 - Finnish IT solu...</td>\n",
       "      <td>2</td>\n",
       "      <td>adp news feb finnish solution provider affecto...</td>\n",
       "      <td>Positive</td>\n",
       "    </tr>\n",
       "    <tr>\n",
       "      <th>478</th>\n",
       "      <td>Aspocomp intends to set up a plant to manufact...</td>\n",
       "      <td>1</td>\n",
       "      <td>aspocomp intends set plant manufacture printed...</td>\n",
       "      <td>Neutral</td>\n",
       "    </tr>\n",
       "    <tr>\n",
       "      <th>4644</th>\n",
       "      <td>Revenue for the quarter totaled 27.4 billion ,...</td>\n",
       "      <td>0</td>\n",
       "      <td>revenue quarter totaled billion percent billio...</td>\n",
       "      <td>Negative</td>\n",
       "    </tr>\n",
       "    <tr>\n",
       "      <th>3471</th>\n",
       "      <td>- The Group -¦ s profit before taxes was EUR 0...</td>\n",
       "      <td>1</td>\n",
       "      <td>group profit tax eur million</td>\n",
       "      <td>Neutral</td>\n",
       "    </tr>\n",
       "  </tbody>\n",
       "</table>\n",
       "<p>4360 rows × 4 columns</p>\n",
       "</div>"
      ],
      "text/plain": [
       "                                               sentence  label  \\\n",
       "510   The company plans to expand into the internati...      2   \n",
       "3223  The contracts between Raute Corporation and Mu...      1   \n",
       "560   Basware Corporation stock exchange release Aug...      2   \n",
       "235   Net interest income increased by 4.5 % to EUR ...      2   \n",
       "345   ADP News - Nov 18 , 2008 - Finnish AC drives m...      2   \n",
       "...                                                 ...    ...   \n",
       "3946  There have not been previous share subscriptio...      1   \n",
       "228   ( ADP News ) - Feb 12 , 2009 - Finnish IT solu...      2   \n",
       "478   Aspocomp intends to set up a plant to manufact...      1   \n",
       "4644  Revenue for the quarter totaled 27.4 billion ,...      0   \n",
       "3471  - The Group -¦ s profit before taxes was EUR 0...      1   \n",
       "\n",
       "                                             clean_text sentiment  \n",
       "510   company plan expand international market subsi...  Positive  \n",
       "3223  contract raute corporation muling kemian wood ...   Neutral  \n",
       "560   basware corporation stock exchange release aug...  Positive  \n",
       "235         net interest income increased eur mn eur mn  Positive  \n",
       "345   adp news nov finnish ac drive manufacturer vac...  Positive  \n",
       "...                                                 ...       ...  \n",
       "3946           previous share subscription stock option   Neutral  \n",
       "228   adp news feb finnish solution provider affecto...  Positive  \n",
       "478   aspocomp intends set plant manufacture printed...   Neutral  \n",
       "4644  revenue quarter totaled billion percent billio...  Negative  \n",
       "3471                       group profit tax eur million   Neutral  \n",
       "\n",
       "[4360 rows x 4 columns]"
      ]
     },
     "execution_count": 35,
     "metadata": {},
     "output_type": "execute_result"
    }
   ],
   "source": [
    "df_stratified_train"
   ]
  },
  {
   "cell_type": "code",
   "execution_count": 36,
   "id": "03a749f2",
   "metadata": {},
   "outputs": [
    {
     "data": {
      "text/html": [
       "<div>\n",
       "<style scoped>\n",
       "    .dataframe tbody tr th:only-of-type {\n",
       "        vertical-align: middle;\n",
       "    }\n",
       "\n",
       "    .dataframe tbody tr th {\n",
       "        vertical-align: top;\n",
       "    }\n",
       "\n",
       "    .dataframe thead th {\n",
       "        text-align: right;\n",
       "    }\n",
       "</style>\n",
       "<table border=\"1\" class=\"dataframe\">\n",
       "  <thead>\n",
       "    <tr style=\"text-align: right;\">\n",
       "      <th></th>\n",
       "      <th>sentence</th>\n",
       "      <th>label</th>\n",
       "      <th>clean_text</th>\n",
       "      <th>sentiment</th>\n",
       "    </tr>\n",
       "  </thead>\n",
       "  <tbody>\n",
       "    <tr>\n",
       "      <th>699</th>\n",
       "      <td>Salonen added that data shows producers ' pulp...</td>\n",
       "      <td>0</td>\n",
       "      <td>salonen added data show producer pulp inventor...</td>\n",
       "      <td>Negative</td>\n",
       "    </tr>\n",
       "    <tr>\n",
       "      <th>3206</th>\n",
       "      <td>The company serves customers in various indust...</td>\n",
       "      <td>1</td>\n",
       "      <td>company serf customer various industry includi...</td>\n",
       "      <td>Neutral</td>\n",
       "    </tr>\n",
       "    <tr>\n",
       "      <th>2158</th>\n",
       "      <td>Net sales are expected to remain on the same l...</td>\n",
       "      <td>1</td>\n",
       "      <td>net sale expected remain level</td>\n",
       "      <td>Neutral</td>\n",
       "    </tr>\n",
       "    <tr>\n",
       "      <th>4660</th>\n",
       "      <td>Finnish shipping company Finnlines , of the Gr...</td>\n",
       "      <td>0</td>\n",
       "      <td>finnish shipping company finnlines grimaldi gr...</td>\n",
       "      <td>Negative</td>\n",
       "    </tr>\n",
       "    <tr>\n",
       "      <th>1421</th>\n",
       "      <td>The service developed by Digia facilitates the...</td>\n",
       "      <td>1</td>\n",
       "      <td>service developed digia facilitates work resou...</td>\n",
       "      <td>Neutral</td>\n",
       "    </tr>\n",
       "    <tr>\n",
       "      <th>...</th>\n",
       "      <td>...</td>\n",
       "      <td>...</td>\n",
       "      <td>...</td>\n",
       "      <td>...</td>\n",
       "    </tr>\n",
       "    <tr>\n",
       "      <th>3128</th>\n",
       "      <td>Sponda is a property investment company , spec...</td>\n",
       "      <td>1</td>\n",
       "      <td>sponda property investment company specialisin...</td>\n",
       "      <td>Neutral</td>\n",
       "    </tr>\n",
       "    <tr>\n",
       "      <th>4036</th>\n",
       "      <td>Operating loss totalled EUR 12.7 mn , compared...</td>\n",
       "      <td>0</td>\n",
       "      <td>operating loss totalled eur mn compared profit...</td>\n",
       "      <td>Negative</td>\n",
       "    </tr>\n",
       "    <tr>\n",
       "      <th>1144</th>\n",
       "      <td>Finnish beverage company Olvi is introducing a...</td>\n",
       "      <td>1</td>\n",
       "      <td>finnish beverage company olvi introducing new ...</td>\n",
       "      <td>Neutral</td>\n",
       "    </tr>\n",
       "    <tr>\n",
       "      <th>1838</th>\n",
       "      <td>Chic and cheerful , Finnish design house Marim...</td>\n",
       "      <td>1</td>\n",
       "      <td>chic cheerful finnish design house marimekko s...</td>\n",
       "      <td>Neutral</td>\n",
       "    </tr>\n",
       "    <tr>\n",
       "      <th>2297</th>\n",
       "      <td>Quarterly diluted EPS on continuing operations...</td>\n",
       "      <td>2</td>\n",
       "      <td>quarterly diluted eps continuing operation cam...</td>\n",
       "      <td>Positive</td>\n",
       "    </tr>\n",
       "  </tbody>\n",
       "</table>\n",
       "<p>485 rows × 4 columns</p>\n",
       "</div>"
      ],
      "text/plain": [
       "                                               sentence  label  \\\n",
       "699   Salonen added that data shows producers ' pulp...      0   \n",
       "3206  The company serves customers in various indust...      1   \n",
       "2158  Net sales are expected to remain on the same l...      1   \n",
       "4660  Finnish shipping company Finnlines , of the Gr...      0   \n",
       "1421  The service developed by Digia facilitates the...      1   \n",
       "...                                                 ...    ...   \n",
       "3128  Sponda is a property investment company , spec...      1   \n",
       "4036  Operating loss totalled EUR 12.7 mn , compared...      0   \n",
       "1144  Finnish beverage company Olvi is introducing a...      1   \n",
       "1838  Chic and cheerful , Finnish design house Marim...      1   \n",
       "2297  Quarterly diluted EPS on continuing operations...      2   \n",
       "\n",
       "                                             clean_text sentiment  \n",
       "699   salonen added data show producer pulp inventor...  Negative  \n",
       "3206  company serf customer various industry includi...   Neutral  \n",
       "2158                     net sale expected remain level   Neutral  \n",
       "4660  finnish shipping company finnlines grimaldi gr...  Negative  \n",
       "1421  service developed digia facilitates work resou...   Neutral  \n",
       "...                                                 ...       ...  \n",
       "3128  sponda property investment company specialisin...   Neutral  \n",
       "4036  operating loss totalled eur mn compared profit...  Negative  \n",
       "1144  finnish beverage company olvi introducing new ...   Neutral  \n",
       "1838  chic cheerful finnish design house marimekko s...   Neutral  \n",
       "2297  quarterly diluted eps continuing operation cam...  Positive  \n",
       "\n",
       "[485 rows x 4 columns]"
      ]
     },
     "execution_count": 36,
     "metadata": {},
     "output_type": "execute_result"
    }
   ],
   "source": [
    "df_stratified_val"
   ]
  },
  {
   "cell_type": "code",
   "execution_count": 49,
   "id": "9ca4d202",
   "metadata": {},
   "outputs": [],
   "source": [
    "train_vectors = vectorizer.fit_transform(df_stratified_train['clean_text'])\n",
    "test_vectors = vectorizer.transform(df_stratified_val['clean_text'])\n",
    "test_true = df_stratified_val[['sentiment']].values"
   ]
  },
  {
   "cell_type": "code",
   "execution_count": 38,
   "id": "a778ca89",
   "metadata": {},
   "outputs": [],
   "source": [
    "# Perform classification with SVM, kernel=linear\n",
    "classifier_linear = svm.SVC(kernel='linear')\n",
    "t0 = time.time()\n",
    "classifier_linear.fit(train_vectors, df_stratified_train['sentiment'].values)\n",
    "t1 = time.time()\n",
    "prediction_linear = classifier_linear.predict(test_vectors)\n",
    "t2 = time.time()\n",
    "time_linear_train = t1-t0\n",
    "time_linear_predict = t2-t1"
   ]
  },
  {
   "cell_type": "code",
   "execution_count": 39,
   "id": "b7dd1733",
   "metadata": {},
   "outputs": [
    {
     "name": "stdout",
     "output_type": "stream",
     "text": [
      "Training time: 1.316930s; Prediction time: 0.109335s\n"
     ]
    }
   ],
   "source": [
    "# results\n",
    "print(\"Training time: %fs; Prediction time: %fs\" % (time_linear_train, time_linear_predict))\n",
    "report = classification_report(df_stratified_val[['sentiment']].values, prediction_linear, output_dict=True)"
   ]
  },
  {
   "cell_type": "code",
   "execution_count": 40,
   "id": "3bf2696d",
   "metadata": {},
   "outputs": [
    {
     "name": "stdout",
     "output_type": "stream",
     "text": [
      "neutral:  {'precision': 0.764179104477612, 'recall': 0.8888888888888888, 'f1-score': 0.8218298555377207, 'support': 288.0}\n",
      "negative:  {'precision': 0.7608695652173914, 'recall': 0.5737704918032787, 'f1-score': 0.6542056074766355, 'support': 61.0}\n",
      "positive:  {'precision': 0.6923076923076923, 'recall': 0.5294117647058824, 'f1-score': 0.6, 'support': 136.0}\n"
     ]
    }
   ],
   "source": [
    "print('neutral: ', report['Neutral'])\n",
    "print('negative: ', report['Negative'])\n",
    "print('positive: ', report['Positive'])"
   ]
  },
  {
   "cell_type": "code",
   "execution_count": 41,
   "id": "5ef28b19",
   "metadata": {},
   "outputs": [
    {
     "name": "stdout",
     "output_type": "stream",
     "text": [
      "Positive\n",
      "Neutral\n",
      "Neutral\n"
     ]
    }
   ],
   "source": [
    "sentences = ['growth is strong and we have plenty of liquidity.', \n",
    "               'there is a shortage of capital, and we need extra financing.', \n",
    "              'formulation patents might protect Vasotec to a limited extent.']\n",
    "for sen in sentences:\n",
    "    sentences_vector = vectorizer.transform([sen]) # vectorizing\n",
    "    print(classifier_linear.predict(sentences_vector).prod())"
   ]
  },
  {
   "cell_type": "code",
   "execution_count": 42,
   "id": "633755e4",
   "metadata": {},
   "outputs": [],
   "source": [
    "result=classifier_linear.predict(sentences_vector)"
   ]
  },
  {
   "cell_type": "code",
   "execution_count": 43,
   "id": "9a9cbade",
   "metadata": {},
   "outputs": [
    {
     "data": {
      "text/plain": [
       "array(['Neutral'], dtype=object)"
      ]
     },
     "execution_count": 43,
     "metadata": {},
     "output_type": "execute_result"
    }
   ],
   "source": [
    "result.view()"
   ]
  },
  {
   "cell_type": "markdown",
   "id": "6560f309",
   "metadata": {},
   "source": [
    "# pickling the vectorizer\n",
    "pickle.dump(vectorizer, open('vectorizer.sav', 'wb'))\n",
    "# pickling the model\n",
    "pickle.dump(classifier_linear, open('classifier.sav', 'wb')"
   ]
  },
  {
   "cell_type": "code",
   "execution_count": null,
   "id": "a751e739",
   "metadata": {},
   "outputs": [],
   "source": []
  },
  {
   "cell_type": "markdown",
   "id": "94219b70",
   "metadata": {},
   "source": [
    "# Confusion Matrix"
   ]
  },
  {
   "cell_type": "code",
   "execution_count": 44,
   "id": "7e912a5e",
   "metadata": {},
   "outputs": [],
   "source": [
    "from sklearn.metrics import confusion_matrix"
   ]
  },
  {
   "cell_type": "code",
   "execution_count": 45,
   "id": "7bcffc8a",
   "metadata": {},
   "outputs": [
    {
     "data": {
      "text/plain": [
       "[0, 1, 2]"
      ]
     },
     "execution_count": 45,
     "metadata": {},
     "output_type": "execute_result"
    }
   ],
   "source": [
    "class_names = sorted(df_train.label.unique())\n",
    "class_names"
   ]
  },
  {
   "cell_type": "code",
   "execution_count": 47,
   "id": "354adb9d",
   "metadata": {},
   "outputs": [
    {
     "data": {
      "text/plain": [
       "(485,)"
      ]
     },
     "execution_count": 47,
     "metadata": {},
     "output_type": "execute_result"
    }
   ],
   "source": [
    "prediction_linear.shape"
   ]
  },
  {
   "cell_type": "code",
   "execution_count": 50,
   "id": "789dffba",
   "metadata": {},
   "outputs": [
    {
     "data": {
      "text/plain": [
       "(485, 1)"
      ]
     },
     "execution_count": 50,
     "metadata": {},
     "output_type": "execute_result"
    }
   ],
   "source": [
    "test_true.shape"
   ]
  },
  {
   "cell_type": "code",
   "execution_count": 51,
   "id": "94d71565",
   "metadata": {},
   "outputs": [],
   "source": [
    "cm = confusion_matrix(test_true,prediction_linear )"
   ]
  },
  {
   "cell_type": "code",
   "execution_count": 52,
   "id": "6f6bec0a",
   "metadata": {},
   "outputs": [],
   "source": [
    "import seaborn as sns\n",
    "import matplotlib.pyplot as plt\n",
    "def show_confusion_matrix(confusion_matrix):\n",
    "    hmap = sns.heatmap(confusion_matrix, annot=True, fmt=\"d\", cmap=\"Blues\")\n",
    "    hmap.yaxis.set_ticklabels(hmap.yaxis.get_ticklabels(), rotation = 0, ha='right')\n",
    "    hmap.xaxis.set_ticklabels(hmap.xaxis.get_ticklabels(), rotation = 30, ha='right')\n",
    "    plt.ylabel('True Sentiment')\n",
    "    plt.xlabel('Predicted Sentiment')"
   ]
  },
  {
   "cell_type": "code",
   "execution_count": 53,
   "id": "129b8310",
   "metadata": {},
   "outputs": [
    {
     "data": {
      "image/png": "[encoded data removed]",
      "text/plain": [
       "<Figure size 640x480 with 2 Axes>"
      ]
     },
     "metadata": {},
     "output_type": "display_data"
    }
   ],
   "source": [
    "df_cm = pd.DataFrame(cm, index=class_names, columns = class_names)\n",
    "show_confusion_matrix(df_cm)"
   ]
  }
 ],
 "metadata": {
  "kernelspec": {
   "display_name": "Python 3 (ipykernel)",
   "language": "python",
   "name": "python3"
  },
  "language_info": {
   "codemirror_mode": {
    "name": "ipython",
    "version": 3
   },
   "file_extension": ".py",
   "mimetype": "text/x-python",
   "name": "python",
   "nbconvert_exporter": "python",
   "pygments_lexer": "ipython3",
   "version": "3.11.4"
  }
 },
 "nbformat": 4,
 "nbformat_minor": 5
}
