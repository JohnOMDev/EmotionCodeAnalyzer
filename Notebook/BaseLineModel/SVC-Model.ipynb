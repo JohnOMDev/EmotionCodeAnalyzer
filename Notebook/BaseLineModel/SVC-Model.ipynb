{
 "cells": [
  {
   "cell_type": "markdown",
   "id": "18926f96",
   "metadata": {},
   "source": [
    "# Sentiment Classifier"
   ]
  },
  {
   "cell_type": "code",
   "execution_count": 1,
   "id": "036768ff",
   "metadata": {},
   "outputs": [],
   "source": [
    "import pandas as pd\n",
    "from sklearn.feature_extraction.text import TfidfVectorizer\n",
    "from sklearn.model_selection import train_test_split\n",
    "import time\n",
    "from sklearn import svm\n",
    "from sklearn.metrics import classification_report\n",
    "import pickle"
   ]
  },
  {
   "cell_type": "code",
   "execution_count": 3,
   "id": "33cd89f8",
   "metadata": {},
   "outputs": [],
   "source": [
    "df_fin_phrase = pd.read_csv(\"../../Data/Prepared/CleanDatasets/fin_phrase_bank_clean.csv\")"
   ]
  },
  {
   "cell_type": "code",
   "execution_count": 4,
   "id": "156aa084",
   "metadata": {},
   "outputs": [
    {
     "data": {
      "text/html": [
       "<div>\n",
       "<style scoped>\n",
       "    .dataframe tbody tr th:only-of-type {\n",
       "        vertical-align: middle;\n",
       "    }\n",
       "\n",
       "    .dataframe tbody tr th {\n",
       "        vertical-align: top;\n",
       "    }\n",
       "\n",
       "    .dataframe thead th {\n",
       "        text-align: right;\n",
       "    }\n",
       "</style>\n",
       "<table border=\"1\" class=\"dataframe\">\n",
       "  <thead>\n",
       "    <tr style=\"text-align: right;\">\n",
       "      <th></th>\n",
       "      <th>sentence</th>\n",
       "      <th>label</th>\n",
       "      <th>clean_text</th>\n",
       "      <th>sentiment</th>\n",
       "    </tr>\n",
       "  </thead>\n",
       "  <tbody>\n",
       "    <tr>\n",
       "      <th>0</th>\n",
       "      <td>According to Gran , the company has no plans t...</td>\n",
       "      <td>1</td>\n",
       "      <td>according gran company plan move production ru...</td>\n",
       "      <td>Neutral</td>\n",
       "    </tr>\n",
       "    <tr>\n",
       "      <th>1</th>\n",
       "      <td>Technopolis plans to develop in stages an area...</td>\n",
       "      <td>1</td>\n",
       "      <td>technopolis plan develop stage area le square ...</td>\n",
       "      <td>Neutral</td>\n",
       "    </tr>\n",
       "    <tr>\n",
       "      <th>2</th>\n",
       "      <td>The international electronic industry company ...</td>\n",
       "      <td>0</td>\n",
       "      <td>international electronic industry company elco...</td>\n",
       "      <td>Negative</td>\n",
       "    </tr>\n",
       "    <tr>\n",
       "      <th>3</th>\n",
       "      <td>With the new production plant the company woul...</td>\n",
       "      <td>2</td>\n",
       "      <td>new production plant company would increase ca...</td>\n",
       "      <td>Positive</td>\n",
       "    </tr>\n",
       "    <tr>\n",
       "      <th>4</th>\n",
       "      <td>According to the company 's updated strategy f...</td>\n",
       "      <td>2</td>\n",
       "      <td>according company updated strategy year baswar...</td>\n",
       "      <td>Positive</td>\n",
       "    </tr>\n",
       "  </tbody>\n",
       "</table>\n",
       "</div>"
      ],
      "text/plain": [
       "                                            sentence  label  \\\n",
       "0  According to Gran , the company has no plans t...      1   \n",
       "1  Technopolis plans to develop in stages an area...      1   \n",
       "2  The international electronic industry company ...      0   \n",
       "3  With the new production plant the company woul...      2   \n",
       "4  According to the company 's updated strategy f...      2   \n",
       "\n",
       "                                          clean_text sentiment  \n",
       "0  according gran company plan move production ru...   Neutral  \n",
       "1  technopolis plan develop stage area le square ...   Neutral  \n",
       "2  international electronic industry company elco...  Negative  \n",
       "3  new production plant company would increase ca...  Positive  \n",
       "4  according company updated strategy year baswar...  Positive  "
      ]
     },
     "execution_count": 4,
     "metadata": {},
     "output_type": "execute_result"
    }
   ],
   "source": [
    "df_fin_phrase.head(5)"
   ]
  },
  {
   "cell_type": "code",
   "execution_count": 5,
   "id": "1cd82aff",
   "metadata": {},
   "outputs": [
    {
     "data": {
      "text/plain": [
       "sentiment\n",
       "Neutral     2879\n",
       "Positive    1363\n",
       "Negative     604\n",
       "Name: count, dtype: int64"
      ]
     },
     "execution_count": 5,
     "metadata": {},
     "output_type": "execute_result"
    }
   ],
   "source": [
    "df_fin_phrase['sentiment'].value_counts()"
   ]
  },
  {
   "cell_type": "code",
   "execution_count": 12,
   "id": "df918e96",
   "metadata": {},
   "outputs": [
    {
     "data": {
      "text/plain": [
       "sentence      0\n",
       "label         0\n",
       "clean_text    1\n",
       "sentiment     0\n",
       "dtype: int64"
      ]
     },
     "execution_count": 12,
     "metadata": {},
     "output_type": "execute_result"
    }
   ],
   "source": [
    "df_fin_phrase.isnull().sum()"
   ]
  },
  {
   "cell_type": "code",
   "execution_count": 13,
   "id": "89162fa7",
   "metadata": {},
   "outputs": [],
   "source": [
    "df_fin_phrase.dropna(inplace=True)"
   ]
  },
  {
   "cell_type": "markdown",
   "id": "6359f342",
   "metadata": {},
   "source": [
    "## Training with Simple Random Sample"
   ]
  },
  {
   "cell_type": "code",
   "execution_count": 14,
   "id": "b7c1eadc",
   "metadata": {},
   "outputs": [],
   "source": [
    "df_randomised = df_fin_phrase.sample(frac=1)"
   ]
  },
  {
   "cell_type": "code",
   "execution_count": 15,
   "id": "27a5bc20",
   "metadata": {},
   "outputs": [],
   "source": [
    "train_rate = 0.90"
   ]
  },
  {
   "cell_type": "code",
   "execution_count": 16,
   "id": "7900a7e1",
   "metadata": {},
   "outputs": [
    {
     "data": {
      "text/html": [
       "<div>\n",
       "<style scoped>\n",
       "    .dataframe tbody tr th:only-of-type {\n",
       "        vertical-align: middle;\n",
       "    }\n",
       "\n",
       "    .dataframe tbody tr th {\n",
       "        vertical-align: top;\n",
       "    }\n",
       "\n",
       "    .dataframe thead th {\n",
       "        text-align: right;\n",
       "    }\n",
       "</style>\n",
       "<table border=\"1\" class=\"dataframe\">\n",
       "  <thead>\n",
       "    <tr style=\"text-align: right;\">\n",
       "      <th></th>\n",
       "      <th>sentence</th>\n",
       "      <th>label</th>\n",
       "      <th>clean_text</th>\n",
       "      <th>sentiment</th>\n",
       "    </tr>\n",
       "  </thead>\n",
       "  <tbody>\n",
       "    <tr>\n",
       "      <th>2445</th>\n",
       "      <td>Empresa de Desarrollo Urbano de Quito , INNOVA...</td>\n",
       "      <td>1</td>\n",
       "      <td>empresa de desarrollo urbano de quito innovar ...</td>\n",
       "      <td>Neutral</td>\n",
       "    </tr>\n",
       "    <tr>\n",
       "      <th>778</th>\n",
       "      <td>Ragutis , which is based in Lithuania 's secon...</td>\n",
       "      <td>2</td>\n",
       "      <td>ragutis based lithuania second largest city ka...</td>\n",
       "      <td>Positive</td>\n",
       "    </tr>\n",
       "    <tr>\n",
       "      <th>868</th>\n",
       "      <td>Nokia controls more than 50 percent of phone s...</td>\n",
       "      <td>2</td>\n",
       "      <td>nokia control percent phone sale india africa ...</td>\n",
       "      <td>Positive</td>\n",
       "    </tr>\n",
       "    <tr>\n",
       "      <th>1108</th>\n",
       "      <td>The service also enables users to watch e-mail...</td>\n",
       "      <td>1</td>\n",
       "      <td>service also enables user watch e mail html fo...</td>\n",
       "      <td>Neutral</td>\n",
       "    </tr>\n",
       "    <tr>\n",
       "      <th>4167</th>\n",
       "      <td>Alpina Sports is a Lebanon , New Hampshire USA...</td>\n",
       "      <td>1</td>\n",
       "      <td>alpina sport lebanon new hampshire usa based d...</td>\n",
       "      <td>Neutral</td>\n",
       "    </tr>\n",
       "    <tr>\n",
       "      <th>...</th>\n",
       "      <td>...</td>\n",
       "      <td>...</td>\n",
       "      <td>...</td>\n",
       "      <td>...</td>\n",
       "    </tr>\n",
       "    <tr>\n",
       "      <th>612</th>\n",
       "      <td>OUTOTEC OYJ PRESS RELEASE DECEMBER 4 , 2009 10...</td>\n",
       "      <td>2</td>\n",
       "      <td>outotec oyj press release december outotec est...</td>\n",
       "      <td>Positive</td>\n",
       "    </tr>\n",
       "    <tr>\n",
       "      <th>4793</th>\n",
       "      <td>Finnish Suominen Corporation that makes wipes ...</td>\n",
       "      <td>0</td>\n",
       "      <td>finnish suominen corporation make wipe nonwove...</td>\n",
       "      <td>Negative</td>\n",
       "    </tr>\n",
       "    <tr>\n",
       "      <th>2013</th>\n",
       "      <td>Fiskars , a 360-year-old global business best ...</td>\n",
       "      <td>2</td>\n",
       "      <td>fiskars year old global business best known or...</td>\n",
       "      <td>Positive</td>\n",
       "    </tr>\n",
       "    <tr>\n",
       "      <th>1606</th>\n",
       "      <td>The Annual General Meeting approved a dividend...</td>\n",
       "      <td>1</td>\n",
       "      <td>annual general meeting approved dividend eur p...</td>\n",
       "      <td>Neutral</td>\n",
       "    </tr>\n",
       "    <tr>\n",
       "      <th>4672</th>\n",
       "      <td>Earnings per share ( EPS ) in 2005 decreased t...</td>\n",
       "      <td>0</td>\n",
       "      <td>earnings per share eps decreased eur eur</td>\n",
       "      <td>Negative</td>\n",
       "    </tr>\n",
       "  </tbody>\n",
       "</table>\n",
       "<p>4360 rows × 4 columns</p>\n",
       "</div>"
      ],
      "text/plain": [
       "                                               sentence  label  \\\n",
       "2445  Empresa de Desarrollo Urbano de Quito , INNOVA...      1   \n",
       "778   Ragutis , which is based in Lithuania 's secon...      2   \n",
       "868   Nokia controls more than 50 percent of phone s...      2   \n",
       "1108  The service also enables users to watch e-mail...      1   \n",
       "4167  Alpina Sports is a Lebanon , New Hampshire USA...      1   \n",
       "...                                                 ...    ...   \n",
       "612   OUTOTEC OYJ PRESS RELEASE DECEMBER 4 , 2009 10...      2   \n",
       "4793  Finnish Suominen Corporation that makes wipes ...      0   \n",
       "2013  Fiskars , a 360-year-old global business best ...      2   \n",
       "1606  The Annual General Meeting approved a dividend...      1   \n",
       "4672  Earnings per share ( EPS ) in 2005 decreased t...      0   \n",
       "\n",
       "                                             clean_text sentiment  \n",
       "2445  empresa de desarrollo urbano de quito innovar ...   Neutral  \n",
       "778   ragutis based lithuania second largest city ka...  Positive  \n",
       "868   nokia control percent phone sale india africa ...  Positive  \n",
       "1108  service also enables user watch e mail html fo...   Neutral  \n",
       "4167  alpina sport lebanon new hampshire usa based d...   Neutral  \n",
       "...                                                 ...       ...  \n",
       "612   outotec oyj press release december outotec est...  Positive  \n",
       "4793  finnish suominen corporation make wipe nonwove...  Negative  \n",
       "2013  fiskars year old global business best known or...  Positive  \n",
       "1606  annual general meeting approved dividend eur p...   Neutral  \n",
       "4672           earnings per share eps decreased eur eur  Negative  \n",
       "\n",
       "[4360 rows x 4 columns]"
      ]
     },
     "execution_count": 16,
     "metadata": {},
     "output_type": "execute_result"
    }
   ],
   "source": [
    "df_train = df_randomised[:int(len(df_randomised) * train_rate)]\n",
    "df_train"
   ]
  },
  {
   "cell_type": "code",
   "execution_count": 17,
   "id": "f28aaa9d",
   "metadata": {},
   "outputs": [
    {
     "data": {
      "text/html": [
       "<div>\n",
       "<style scoped>\n",
       "    .dataframe tbody tr th:only-of-type {\n",
       "        vertical-align: middle;\n",
       "    }\n",
       "\n",
       "    .dataframe tbody tr th {\n",
       "        vertical-align: top;\n",
       "    }\n",
       "\n",
       "    .dataframe thead th {\n",
       "        text-align: right;\n",
       "    }\n",
       "</style>\n",
       "<table border=\"1\" class=\"dataframe\">\n",
       "  <thead>\n",
       "    <tr style=\"text-align: right;\">\n",
       "      <th></th>\n",
       "      <th>sentence</th>\n",
       "      <th>label</th>\n",
       "      <th>clean_text</th>\n",
       "      <th>sentiment</th>\n",
       "    </tr>\n",
       "  </thead>\n",
       "  <tbody>\n",
       "    <tr>\n",
       "      <th>481</th>\n",
       "      <td>Calls to the switchboard and directory service...</td>\n",
       "      <td>1</td>\n",
       "      <td>call switchboard directory service decreased s...</td>\n",
       "      <td>Neutral</td>\n",
       "    </tr>\n",
       "    <tr>\n",
       "      <th>2263</th>\n",
       "      <td>`` Several growth initiatives in the chosen ge...</td>\n",
       "      <td>2</td>\n",
       "      <td>several growth initiative chosen geographic ar...</td>\n",
       "      <td>Positive</td>\n",
       "    </tr>\n",
       "    <tr>\n",
       "      <th>2491</th>\n",
       "      <td>It moved into the No. 2 spot in 2000 when it m...</td>\n",
       "      <td>1</td>\n",
       "      <td>moved spot merged steel operation avesta sheff...</td>\n",
       "      <td>Neutral</td>\n",
       "    </tr>\n",
       "    <tr>\n",
       "      <th>1792</th>\n",
       "      <td>We are very pleased with the fine co-operation...</td>\n",
       "      <td>2</td>\n",
       "      <td>pleased fine co operation two country recent t...</td>\n",
       "      <td>Positive</td>\n",
       "    </tr>\n",
       "    <tr>\n",
       "      <th>3382</th>\n",
       "      <td>The train is expected to cross the Russian ter...</td>\n",
       "      <td>1</td>\n",
       "      <td>train expected cross russian territory day rea...</td>\n",
       "      <td>Neutral</td>\n",
       "    </tr>\n",
       "    <tr>\n",
       "      <th>...</th>\n",
       "      <td>...</td>\n",
       "      <td>...</td>\n",
       "      <td>...</td>\n",
       "      <td>...</td>\n",
       "    </tr>\n",
       "    <tr>\n",
       "      <th>4832</th>\n",
       "      <td>Comparable operating profit totaled EUR 4.7 mn...</td>\n",
       "      <td>0</td>\n",
       "      <td>comparable operating profit totaled eur mn eur...</td>\n",
       "      <td>Negative</td>\n",
       "    </tr>\n",
       "    <tr>\n",
       "      <th>181</th>\n",
       "      <td>Diluted earnings per share ( EPS ) rose to EUR...</td>\n",
       "      <td>2</td>\n",
       "      <td>diluted earnings per share eps rose eur versus...</td>\n",
       "      <td>Positive</td>\n",
       "    </tr>\n",
       "    <tr>\n",
       "      <th>4721</th>\n",
       "      <td>The Group 's order portfolio decreased from EU...</td>\n",
       "      <td>0</td>\n",
       "      <td>group order portfolio decreased eur mn eur mn</td>\n",
       "      <td>Negative</td>\n",
       "    </tr>\n",
       "    <tr>\n",
       "      <th>2757</th>\n",
       "      <td>Swedish engineering consultant firm Etteplan i...</td>\n",
       "      <td>1</td>\n",
       "      <td>swedish engineering consultant firm etteplan e...</td>\n",
       "      <td>Neutral</td>\n",
       "    </tr>\n",
       "    <tr>\n",
       "      <th>995</th>\n",
       "      <td>The world 's biggest magazine paper maker said...</td>\n",
       "      <td>2</td>\n",
       "      <td>world biggest magazine paper maker said progra...</td>\n",
       "      <td>Positive</td>\n",
       "    </tr>\n",
       "  </tbody>\n",
       "</table>\n",
       "<p>485 rows × 4 columns</p>\n",
       "</div>"
      ],
      "text/plain": [
       "                                               sentence  label  \\\n",
       "481   Calls to the switchboard and directory service...      1   \n",
       "2263  `` Several growth initiatives in the chosen ge...      2   \n",
       "2491  It moved into the No. 2 spot in 2000 when it m...      1   \n",
       "1792  We are very pleased with the fine co-operation...      2   \n",
       "3382  The train is expected to cross the Russian ter...      1   \n",
       "...                                                 ...    ...   \n",
       "4832  Comparable operating profit totaled EUR 4.7 mn...      0   \n",
       "181   Diluted earnings per share ( EPS ) rose to EUR...      2   \n",
       "4721  The Group 's order portfolio decreased from EU...      0   \n",
       "2757  Swedish engineering consultant firm Etteplan i...      1   \n",
       "995   The world 's biggest magazine paper maker said...      2   \n",
       "\n",
       "                                             clean_text sentiment  \n",
       "481   call switchboard directory service decreased s...   Neutral  \n",
       "2263  several growth initiative chosen geographic ar...  Positive  \n",
       "2491  moved spot merged steel operation avesta sheff...   Neutral  \n",
       "1792  pleased fine co operation two country recent t...  Positive  \n",
       "3382  train expected cross russian territory day rea...   Neutral  \n",
       "...                                                 ...       ...  \n",
       "4832  comparable operating profit totaled eur mn eur...  Negative  \n",
       "181   diluted earnings per share eps rose eur versus...  Positive  \n",
       "4721      group order portfolio decreased eur mn eur mn  Negative  \n",
       "2757  swedish engineering consultant firm etteplan e...   Neutral  \n",
       "995   world biggest magazine paper maker said progra...  Positive  \n",
       "\n",
       "[485 rows x 4 columns]"
      ]
     },
     "execution_count": 17,
     "metadata": {},
     "output_type": "execute_result"
    }
   ],
   "source": [
    "df_val = df_randomised[int(len(df_randomised) * train_rate):]\n",
    "df_val"
   ]
  },
  {
   "cell_type": "code",
   "execution_count": 18,
   "id": "0b499290",
   "metadata": {},
   "outputs": [],
   "source": [
    "# Create feature vectors\n",
    "vectorizer = TfidfVectorizer()"
   ]
  },
  {
   "cell_type": "code",
   "execution_count": 19,
   "id": "5d9bcc7d",
   "metadata": {},
   "outputs": [],
   "source": [
    "train_vectors = vectorizer.fit_transform(df_train['clean_text'])\n",
    "test_vectors = vectorizer.transform(df_val['clean_text'])"
   ]
  },
  {
   "cell_type": "code",
   "execution_count": null,
   "id": "932c05aa",
   "metadata": {},
   "outputs": [],
   "source": []
  },
  {
   "cell_type": "code",
   "execution_count": 20,
   "id": "3b34814f",
   "metadata": {},
   "outputs": [],
   "source": [
    "# Perform classification with SVM, kernel=linear\n",
    "classifier_linear = svm.SVC(kernel='linear')\n",
    "t0 = time.time()\n",
    "classifier_linear.fit(train_vectors, df_train['sentiment'].values)\n",
    "t1 = time.time()\n",
    "prediction_linear = classifier_linear.predict(test_vectors)\n",
    "t2 = time.time()\n",
    "time_linear_train = t1-t0\n",
    "time_linear_predict = t2-t1"
   ]
  },
  {
   "cell_type": "code",
   "execution_count": 21,
   "id": "8c40420a",
   "metadata": {},
   "outputs": [
    {
     "name": "stdout",
     "output_type": "stream",
     "text": [
      "Training time: 1.149691s; Prediction time: 0.095421s\n"
     ]
    }
   ],
   "source": [
    "# results\n",
    "print(\"Training time: %fs; Prediction time: %fs\" % (time_linear_train, time_linear_predict))\n",
    "report = classification_report(df_val[['sentiment']].values, prediction_linear, output_dict=True)"
   ]
  },
  {
   "cell_type": "code",
   "execution_count": 22,
   "id": "0504867a",
   "metadata": {},
   "outputs": [
    {
     "name": "stdout",
     "output_type": "stream",
     "text": [
      "neutral:  {'precision': 0.7692307692307693, 'recall': 0.9154929577464789, 'f1-score': 0.8360128617363345, 'support': 284}\n",
      "negative:  {'precision': 0.85, 'recall': 0.5396825396825397, 'f1-score': 0.6601941747572816, 'support': 63}\n",
      "positive:  {'precision': 0.7289719626168224, 'recall': 0.5652173913043478, 'f1-score': 0.636734693877551, 'support': 138}\n"
     ]
    }
   ],
   "source": [
    "print('neutral: ', report['Neutral'])\n",
    "print('negative: ', report['Negative'])\n",
    "print('positive: ', report['Positive'])"
   ]
  },
  {
   "cell_type": "code",
   "execution_count": 23,
   "id": "938af385",
   "metadata": {},
   "outputs": [
    {
     "name": "stdout",
     "output_type": "stream",
     "text": [
      "['Positive']\n",
      "['Neutral']\n",
      "['Neutral']\n"
     ]
    }
   ],
   "source": [
    "sentences = ['growth is strong and we have plenty of liquidity.', \n",
    "               'there is a shortage of capital, and we need extra financing.', \n",
    "              'formulation patents might protect Vasotec to a limited extent.']\n",
    "for sen in sentences:\n",
    "    sentences_vector = vectorizer.transform([sen]) # vectorizing\n",
    "    print(classifier_linear.predict(sentences_vector))"
   ]
  },
  {
   "cell_type": "code",
   "execution_count": null,
   "id": "632797f4",
   "metadata": {},
   "outputs": [],
   "source": []
  },
  {
   "cell_type": "markdown",
   "id": "ca3eed64",
   "metadata": {},
   "source": [
    "# Training with Stratified Sample"
   ]
  },
  {
   "cell_type": "code",
   "execution_count": 24,
   "id": "61ce5e82",
   "metadata": {},
   "outputs": [],
   "source": [
    "df_stratified_train, df_stratified_val = train_test_split(df_fin_phrase, test_size=0.10, stratify=df_fin_phrase[['sentiment']].values)"
   ]
  },
  {
   "cell_type": "code",
   "execution_count": 25,
   "id": "be8013fe",
   "metadata": {},
   "outputs": [
    {
     "data": {
      "text/html": [
       "<div>\n",
       "<style scoped>\n",
       "    .dataframe tbody tr th:only-of-type {\n",
       "        vertical-align: middle;\n",
       "    }\n",
       "\n",
       "    .dataframe tbody tr th {\n",
       "        vertical-align: top;\n",
       "    }\n",
       "\n",
       "    .dataframe thead th {\n",
       "        text-align: right;\n",
       "    }\n",
       "</style>\n",
       "<table border=\"1\" class=\"dataframe\">\n",
       "  <thead>\n",
       "    <tr style=\"text-align: right;\">\n",
       "      <th></th>\n",
       "      <th>sentence</th>\n",
       "      <th>label</th>\n",
       "      <th>clean_text</th>\n",
       "      <th>sentiment</th>\n",
       "    </tr>\n",
       "  </thead>\n",
       "  <tbody>\n",
       "    <tr>\n",
       "      <th>1943</th>\n",
       "      <td>Business boomed after Ostrom helped plant a sm...</td>\n",
       "      <td>2</td>\n",
       "      <td>business boomed ostrom helped plant small stor...</td>\n",
       "      <td>Positive</td>\n",
       "    </tr>\n",
       "    <tr>\n",
       "      <th>3095</th>\n",
       "      <td>Proline Plus is available in both adjustable s...</td>\n",
       "      <td>1</td>\n",
       "      <td>proline plus available adjustable single multi...</td>\n",
       "      <td>Neutral</td>\n",
       "    </tr>\n",
       "    <tr>\n",
       "      <th>3121</th>\n",
       "      <td>Simultaneously with this merger plan another m...</td>\n",
       "      <td>1</td>\n",
       "      <td>simultaneously merger plan another merger plan...</td>\n",
       "      <td>Neutral</td>\n",
       "    </tr>\n",
       "    <tr>\n",
       "      <th>786</th>\n",
       "      <td>The estimated synergy benefits are at least EU...</td>\n",
       "      <td>2</td>\n",
       "      <td>estimated synergy benefit least eur annually</td>\n",
       "      <td>Positive</td>\n",
       "    </tr>\n",
       "    <tr>\n",
       "      <th>206</th>\n",
       "      <td>However , net sales in 2010 are seen to have g...</td>\n",
       "      <td>2</td>\n",
       "      <td>however net sale seen grown eur eur</td>\n",
       "      <td>Positive</td>\n",
       "    </tr>\n",
       "    <tr>\n",
       "      <th>...</th>\n",
       "      <td>...</td>\n",
       "      <td>...</td>\n",
       "      <td>...</td>\n",
       "      <td>...</td>\n",
       "    </tr>\n",
       "    <tr>\n",
       "      <th>326</th>\n",
       "      <td>Earnings per share EPS rose to EUR 0.11 from E...</td>\n",
       "      <td>2</td>\n",
       "      <td>earnings per share eps rose eur eur</td>\n",
       "      <td>Positive</td>\n",
       "    </tr>\n",
       "    <tr>\n",
       "      <th>3844</th>\n",
       "      <td>The expanded company will continue to be calle...</td>\n",
       "      <td>1</td>\n",
       "      <td>expanded company continue called newpage</td>\n",
       "      <td>Neutral</td>\n",
       "    </tr>\n",
       "    <tr>\n",
       "      <th>4413</th>\n",
       "      <td>Okmetic expects its net sales for the first ha...</td>\n",
       "      <td>0</td>\n",
       "      <td>okmetic expects net sale first half le</td>\n",
       "      <td>Negative</td>\n",
       "    </tr>\n",
       "    <tr>\n",
       "      <th>1278</th>\n",
       "      <td>Linde acts responsibly towards its shareholder...</td>\n",
       "      <td>1</td>\n",
       "      <td>linde act responsibly towards shareholder busi...</td>\n",
       "      <td>Neutral</td>\n",
       "    </tr>\n",
       "    <tr>\n",
       "      <th>3997</th>\n",
       "      <td>The sale will result in a capital loss of EUR5...</td>\n",
       "      <td>0</td>\n",
       "      <td>sale result capital loss eur solidium obtained...</td>\n",
       "      <td>Negative</td>\n",
       "    </tr>\n",
       "  </tbody>\n",
       "</table>\n",
       "<p>4360 rows × 4 columns</p>\n",
       "</div>"
      ],
      "text/plain": [
       "                                               sentence  label  \\\n",
       "1943  Business boomed after Ostrom helped plant a sm...      2   \n",
       "3095  Proline Plus is available in both adjustable s...      1   \n",
       "3121  Simultaneously with this merger plan another m...      1   \n",
       "786   The estimated synergy benefits are at least EU...      2   \n",
       "206   However , net sales in 2010 are seen to have g...      2   \n",
       "...                                                 ...    ...   \n",
       "326   Earnings per share EPS rose to EUR 0.11 from E...      2   \n",
       "3844  The expanded company will continue to be calle...      1   \n",
       "4413  Okmetic expects its net sales for the first ha...      0   \n",
       "1278  Linde acts responsibly towards its shareholder...      1   \n",
       "3997  The sale will result in a capital loss of EUR5...      0   \n",
       "\n",
       "                                             clean_text sentiment  \n",
       "1943  business boomed ostrom helped plant small stor...  Positive  \n",
       "3095  proline plus available adjustable single multi...   Neutral  \n",
       "3121  simultaneously merger plan another merger plan...   Neutral  \n",
       "786        estimated synergy benefit least eur annually  Positive  \n",
       "206                 however net sale seen grown eur eur  Positive  \n",
       "...                                                 ...       ...  \n",
       "326                 earnings per share eps rose eur eur  Positive  \n",
       "3844           expanded company continue called newpage   Neutral  \n",
       "4413             okmetic expects net sale first half le  Negative  \n",
       "1278  linde act responsibly towards shareholder busi...   Neutral  \n",
       "3997  sale result capital loss eur solidium obtained...  Negative  \n",
       "\n",
       "[4360 rows x 4 columns]"
      ]
     },
     "execution_count": 25,
     "metadata": {},
     "output_type": "execute_result"
    }
   ],
   "source": [
    "df_stratified_train"
   ]
  },
  {
   "cell_type": "code",
   "execution_count": 26,
   "id": "03a749f2",
   "metadata": {},
   "outputs": [
    {
     "data": {
      "text/html": [
       "<div>\n",
       "<style scoped>\n",
       "    .dataframe tbody tr th:only-of-type {\n",
       "        vertical-align: middle;\n",
       "    }\n",
       "\n",
       "    .dataframe tbody tr th {\n",
       "        vertical-align: top;\n",
       "    }\n",
       "\n",
       "    .dataframe thead th {\n",
       "        text-align: right;\n",
       "    }\n",
       "</style>\n",
       "<table border=\"1\" class=\"dataframe\">\n",
       "  <thead>\n",
       "    <tr style=\"text-align: right;\">\n",
       "      <th></th>\n",
       "      <th>sentence</th>\n",
       "      <th>label</th>\n",
       "      <th>clean_text</th>\n",
       "      <th>sentiment</th>\n",
       "    </tr>\n",
       "  </thead>\n",
       "  <tbody>\n",
       "    <tr>\n",
       "      <th>347</th>\n",
       "      <td>Net sales surged by 30 % to EUR 36 million .</td>\n",
       "      <td>2</td>\n",
       "      <td>net sale surged eur million</td>\n",
       "      <td>Positive</td>\n",
       "    </tr>\n",
       "    <tr>\n",
       "      <th>2503</th>\n",
       "      <td>Latvia 's Stockmann shopping mall is a subsidi...</td>\n",
       "      <td>1</td>\n",
       "      <td>latvia stockmann shopping mall subsidiary finl...</td>\n",
       "      <td>Neutral</td>\n",
       "    </tr>\n",
       "    <tr>\n",
       "      <th>4039</th>\n",
       "      <td>Operating loss totalled EUR 5.2 mn , compared ...</td>\n",
       "      <td>0</td>\n",
       "      <td>operating loss totalled eur mn compared loss e...</td>\n",
       "      <td>Negative</td>\n",
       "    </tr>\n",
       "    <tr>\n",
       "      <th>4495</th>\n",
       "      <td>`` After a long , unprofitable period the Food...</td>\n",
       "      <td>2</td>\n",
       "      <td>long unprofitable period food division posted ...</td>\n",
       "      <td>Positive</td>\n",
       "    </tr>\n",
       "    <tr>\n",
       "      <th>31</th>\n",
       "      <td>The company 's net profit rose 11.4 % on the y...</td>\n",
       "      <td>2</td>\n",
       "      <td>company net profit rose year million euro sale...</td>\n",
       "      <td>Positive</td>\n",
       "    </tr>\n",
       "    <tr>\n",
       "      <th>...</th>\n",
       "      <td>...</td>\n",
       "      <td>...</td>\n",
       "      <td>...</td>\n",
       "      <td>...</td>\n",
       "    </tr>\n",
       "    <tr>\n",
       "      <th>2686</th>\n",
       "      <td>The wireless industry is bracing itself for th...</td>\n",
       "      <td>1</td>\n",
       "      <td>wireless industry bracing iphone launch june</td>\n",
       "      <td>Neutral</td>\n",
       "    </tr>\n",
       "    <tr>\n",
       "      <th>3181</th>\n",
       "      <td>The companies aim to close the deal before the...</td>\n",
       "      <td>1</td>\n",
       "      <td>company aim close deal end year</td>\n",
       "      <td>Neutral</td>\n",
       "    </tr>\n",
       "    <tr>\n",
       "      <th>1138</th>\n",
       "      <td>A quick `` one-stop-shop '' to understand the ...</td>\n",
       "      <td>1</td>\n",
       "      <td>quick one stop shop understand company</td>\n",
       "      <td>Neutral</td>\n",
       "    </tr>\n",
       "    <tr>\n",
       "      <th>1099</th>\n",
       "      <td>The issuer is solely responsible for the conte...</td>\n",
       "      <td>1</td>\n",
       "      <td>issuer solely responsible content announcement</td>\n",
       "      <td>Neutral</td>\n",
       "    </tr>\n",
       "    <tr>\n",
       "      <th>3645</th>\n",
       "      <td>Inha Works has invested in its product develop...</td>\n",
       "      <td>1</td>\n",
       "      <td>inha work invested product development market ...</td>\n",
       "      <td>Neutral</td>\n",
       "    </tr>\n",
       "  </tbody>\n",
       "</table>\n",
       "<p>485 rows × 4 columns</p>\n",
       "</div>"
      ],
      "text/plain": [
       "                                               sentence  label  \\\n",
       "347        Net sales surged by 30 % to EUR 36 million .      2   \n",
       "2503  Latvia 's Stockmann shopping mall is a subsidi...      1   \n",
       "4039  Operating loss totalled EUR 5.2 mn , compared ...      0   \n",
       "4495  `` After a long , unprofitable period the Food...      2   \n",
       "31    The company 's net profit rose 11.4 % on the y...      2   \n",
       "...                                                 ...    ...   \n",
       "2686  The wireless industry is bracing itself for th...      1   \n",
       "3181  The companies aim to close the deal before the...      1   \n",
       "1138  A quick `` one-stop-shop '' to understand the ...      1   \n",
       "1099  The issuer is solely responsible for the conte...      1   \n",
       "3645  Inha Works has invested in its product develop...      1   \n",
       "\n",
       "                                             clean_text sentiment  \n",
       "347                         net sale surged eur million  Positive  \n",
       "2503  latvia stockmann shopping mall subsidiary finl...   Neutral  \n",
       "4039  operating loss totalled eur mn compared loss e...  Negative  \n",
       "4495  long unprofitable period food division posted ...  Positive  \n",
       "31    company net profit rose year million euro sale...  Positive  \n",
       "...                                                 ...       ...  \n",
       "2686       wireless industry bracing iphone launch june   Neutral  \n",
       "3181                    company aim close deal end year   Neutral  \n",
       "1138             quick one stop shop understand company   Neutral  \n",
       "1099     issuer solely responsible content announcement   Neutral  \n",
       "3645  inha work invested product development market ...   Neutral  \n",
       "\n",
       "[485 rows x 4 columns]"
      ]
     },
     "execution_count": 26,
     "metadata": {},
     "output_type": "execute_result"
    }
   ],
   "source": [
    "df_stratified_val"
   ]
  },
  {
   "cell_type": "code",
   "execution_count": 27,
   "id": "9ca4d202",
   "metadata": {},
   "outputs": [],
   "source": [
    "train_vectors = vectorizer.fit_transform(df_stratified_train['clean_text'])\n",
    "test_vectors = vectorizer.transform(df_stratified_val['clean_text'])"
   ]
  },
  {
   "cell_type": "code",
   "execution_count": 28,
   "id": "a778ca89",
   "metadata": {},
   "outputs": [],
   "source": [
    "# Perform classification with SVM, kernel=linear\n",
    "classifier_linear = svm.SVC(kernel='linear')\n",
    "t0 = time.time()\n",
    "classifier_linear.fit(train_vectors, df_stratified_train['sentiment'].values)\n",
    "t1 = time.time()\n",
    "prediction_linear = classifier_linear.predict(test_vectors)\n",
    "t2 = time.time()\n",
    "time_linear_train = t1-t0\n",
    "time_linear_predict = t2-t1"
   ]
  },
  {
   "cell_type": "code",
   "execution_count": 29,
   "id": "b7dd1733",
   "metadata": {},
   "outputs": [
    {
     "name": "stdout",
     "output_type": "stream",
     "text": [
      "Training time: 1.163846s; Prediction time: 0.088196s\n"
     ]
    }
   ],
   "source": [
    "# results\n",
    "print(\"Training time: %fs; Prediction time: %fs\" % (time_linear_train, time_linear_predict))\n",
    "report = classification_report(df_stratified_val[['sentiment']].values, prediction_linear, output_dict=True)"
   ]
  },
  {
   "cell_type": "code",
   "execution_count": 30,
   "id": "3bf2696d",
   "metadata": {},
   "outputs": [
    {
     "name": "stdout",
     "output_type": "stream",
     "text": [
      "neutral:  {'precision': 0.7450980392156863, 'recall': 0.9236111111111112, 'f1-score': 0.8248062015503876, 'support': 288}\n",
      "negative:  {'precision': 0.7142857142857143, 'recall': 0.4918032786885246, 'f1-score': 0.5825242718446602, 'support': 61}\n",
      "positive:  {'precision': 0.7441860465116279, 'recall': 0.47058823529411764, 'f1-score': 0.5765765765765766, 'support': 136}\n"
     ]
    }
   ],
   "source": [
    "print('neutral: ', report['Neutral'])\n",
    "print('negative: ', report['Negative'])\n",
    "print('positive: ', report['Positive'])"
   ]
  },
  {
   "cell_type": "code",
   "execution_count": 33,
   "id": "856a7e52",
   "metadata": {},
   "outputs": [],
   "source": [
    "def inference(sen):\n",
    "    sentences_vector = vectorizer.transform([sen]) # vectorizing\n",
    "    return classifier_linear.predict(sentences_vector).prod()\n",
    "    "
   ]
  },
  {
   "cell_type": "code",
   "execution_count": 34,
   "id": "5ef28b19",
   "metadata": {},
   "outputs": [
    {
     "name": "stdout",
     "output_type": "stream",
     "text": [
      "Positive\n",
      "Neutral\n",
      "Neutral\n"
     ]
    }
   ],
   "source": [
    "sentences = ['growth is strong and we have plenty of liquidity.', \n",
    "               'there is a shortage of capital, and we need extra financing.', \n",
    "              'formulation patents might protect Vasotec to a limited extent.']\n",
    "for sen in sentences:\n",
    "    print(inference(sen))"
   ]
  },
  {
   "cell_type": "markdown",
   "id": "8ba65f99",
   "metadata": {},
   "source": [
    "### Run inference on twitter validation data"
   ]
  },
  {
   "cell_type": "code",
   "execution_count": 32,
   "id": "078783ad",
   "metadata": {},
   "outputs": [],
   "source": [
    "df_prediction = pd.read_csv('../../Data/Prepared/CleanDatasets/Tweet_valid_clean.csv')"
   ]
  },
  {
   "cell_type": "code",
   "execution_count": 35,
   "id": "99b1ed47",
   "metadata": {},
   "outputs": [],
   "source": [
    "df_prediction['label'] = df_prediction['clean_text'].apply(inference)"
   ]
  },
  {
   "cell_type": "code",
   "execution_count": 36,
   "id": "eafdd39e",
   "metadata": {},
   "outputs": [
    {
     "data": {
      "text/html": [
       "<div>\n",
       "<style scoped>\n",
       "    .dataframe tbody tr th:only-of-type {\n",
       "        vertical-align: middle;\n",
       "    }\n",
       "\n",
       "    .dataframe tbody tr th {\n",
       "        vertical-align: top;\n",
       "    }\n",
       "\n",
       "    .dataframe thead th {\n",
       "        text-align: right;\n",
       "    }\n",
       "</style>\n",
       "<table border=\"1\" class=\"dataframe\">\n",
       "  <thead>\n",
       "    <tr style=\"text-align: right;\">\n",
       "      <th></th>\n",
       "      <th>text</th>\n",
       "      <th>label</th>\n",
       "      <th>clean_text</th>\n",
       "      <th>topic</th>\n",
       "    </tr>\n",
       "  </thead>\n",
       "  <tbody>\n",
       "    <tr>\n",
       "      <th>0</th>\n",
       "      <td>Analyst call of the day for @CNBCPro subscribe...</td>\n",
       "      <td>Neutral</td>\n",
       "      <td>analyst call day cnbcpro subscriber goldman sa...</td>\n",
       "      <td>Analyst Update</td>\n",
       "    </tr>\n",
       "    <tr>\n",
       "      <th>1</th>\n",
       "      <td>Loop upgrades CSX to buy, says it's a good pla...</td>\n",
       "      <td>Positive</td>\n",
       "      <td>loop upgrade csx buy say good place park money...</td>\n",
       "      <td>Analyst Update</td>\n",
       "    </tr>\n",
       "    <tr>\n",
       "      <th>2</th>\n",
       "      <td>BofA believes we're already in a recession — a...</td>\n",
       "      <td>Neutral</td>\n",
       "      <td>bofa belief already recession say stock take b...</td>\n",
       "      <td>Analyst Update</td>\n",
       "    </tr>\n",
       "    <tr>\n",
       "      <th>3</th>\n",
       "      <td>JPMorgan sees these derivative plays as best w...</td>\n",
       "      <td>Neutral</td>\n",
       "      <td>jpmorgan see derivative play best way bet elec...</td>\n",
       "      <td>Analyst Update</td>\n",
       "    </tr>\n",
       "    <tr>\n",
       "      <th>4</th>\n",
       "      <td>Morgan Stanley's Huberty sees Apple earnings m...</td>\n",
       "      <td>Neutral</td>\n",
       "      <td>morgan stanley huberty see apple earnings miss...</td>\n",
       "      <td>Analyst Update</td>\n",
       "    </tr>\n",
       "  </tbody>\n",
       "</table>\n",
       "</div>"
      ],
      "text/plain": [
       "                                                text     label  \\\n",
       "0  Analyst call of the day for @CNBCPro subscribe...   Neutral   \n",
       "1  Loop upgrades CSX to buy, says it's a good pla...  Positive   \n",
       "2  BofA believes we're already in a recession — a...   Neutral   \n",
       "3  JPMorgan sees these derivative plays as best w...   Neutral   \n",
       "4  Morgan Stanley's Huberty sees Apple earnings m...   Neutral   \n",
       "\n",
       "                                          clean_text           topic  \n",
       "0  analyst call day cnbcpro subscriber goldman sa...  Analyst Update  \n",
       "1  loop upgrade csx buy say good place park money...  Analyst Update  \n",
       "2  bofa belief already recession say stock take b...  Analyst Update  \n",
       "3  jpmorgan see derivative play best way bet elec...  Analyst Update  \n",
       "4  morgan stanley huberty see apple earnings miss...  Analyst Update  "
      ]
     },
     "execution_count": 36,
     "metadata": {},
     "output_type": "execute_result"
    }
   ],
   "source": [
    "df_prediction.head(5)"
   ]
  },
  {
   "cell_type": "code",
   "execution_count": 38,
   "id": "7394be9d",
   "metadata": {},
   "outputs": [],
   "source": [
    "# pickling the vectorizer\n",
    "pickle.dump(vectorizer, open('../../Data/Models/svc_vectorizer.sav', 'wb'))\n",
    "# pickling the model\n",
    "pickle.dump(classifier_linear, open('../../Data/Models/svc_classifier.sav', 'wb'))"
   ]
  },
  {
   "cell_type": "code",
   "execution_count": 40,
   "id": "a751e739",
   "metadata": {},
   "outputs": [],
   "source": [
    "df_prediction.to_csv(\"../../Data/Prepared/Svc/prediction_tweet_validation.csv\")"
   ]
  },
  {
   "cell_type": "code",
   "execution_count": null,
   "id": "f57b277b",
   "metadata": {},
   "outputs": [],
   "source": []
  }
 ],
 "metadata": {
  "kernelspec": {
   "display_name": "Python 3 (ipykernel)",
   "language": "python",
   "name": "python3"
  },
  "language_info": {
   "codemirror_mode": {
    "name": "ipython",
    "version": 3
   },
   "file_extension": ".py",
   "mimetype": "text/x-python",
   "name": "python",
   "nbconvert_exporter": "python",
   "pygments_lexer": "ipython3",
   "version": "3.10.9"
  }
 },
 "nbformat": 4,
 "nbformat_minor": 5
}
