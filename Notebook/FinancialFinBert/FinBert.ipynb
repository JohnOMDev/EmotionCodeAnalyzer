{
 "cells": [
  {
   "cell_type": "code",
   "execution_count": 6,
   "id": "645edffa",
   "metadata": {},
   "outputs": [
    {
     "name": "stdout",
     "output_type": "stream",
     "text": [
      "Requirement already satisfied: torch in /home/juann/anaconda3/envs/DDB/lib/python3.11/site-packages (2.2.1)\n",
      "Requirement already satisfied: filelock in /home/juann/anaconda3/envs/DDB/lib/python3.11/site-packages (from torch) (3.13.1)\n",
      "Requirement already satisfied: typing-extensions>=4.8.0 in /home/juann/anaconda3/envs/DDB/lib/python3.11/site-packages (from torch) (4.10.0)\n",
      "Requirement already satisfied: sympy in /home/juann/anaconda3/envs/DDB/lib/python3.11/site-packages (from torch) (1.12)\n",
      "Requirement already satisfied: networkx in /home/juann/anaconda3/envs/DDB/lib/python3.11/site-packages (from torch) (3.2.1)\n",
      "Requirement already satisfied: jinja2 in /home/juann/anaconda3/envs/DDB/lib/python3.11/site-packages (from torch) (3.1.2)\n",
      "Requirement already satisfied: fsspec in /home/juann/anaconda3/envs/DDB/lib/python3.11/site-packages (from torch) (2023.10.0)\n",
      "Requirement already satisfied: nvidia-cuda-nvrtc-cu12==12.1.105 in /home/juann/anaconda3/envs/DDB/lib/python3.11/site-packages (from torch) (12.1.105)\n",
      "Requirement already satisfied: nvidia-cuda-runtime-cu12==12.1.105 in /home/juann/anaconda3/envs/DDB/lib/python3.11/site-packages (from torch) (12.1.105)\n",
      "Requirement already satisfied: nvidia-cuda-cupti-cu12==12.1.105 in /home/juann/anaconda3/envs/DDB/lib/python3.11/site-packages (from torch) (12.1.105)\n",
      "Requirement already satisfied: nvidia-cudnn-cu12==8.9.2.26 in /home/juann/anaconda3/envs/DDB/lib/python3.11/site-packages (from torch) (8.9.2.26)\n",
      "Requirement already satisfied: nvidia-cublas-cu12==12.1.3.1 in /home/juann/anaconda3/envs/DDB/lib/python3.11/site-packages (from torch) (12.1.3.1)\n",
      "Requirement already satisfied: nvidia-cufft-cu12==11.0.2.54 in /home/juann/anaconda3/envs/DDB/lib/python3.11/site-packages (from torch) (11.0.2.54)\n",
      "Requirement already satisfied: nvidia-curand-cu12==10.3.2.106 in /home/juann/anaconda3/envs/DDB/lib/python3.11/site-packages (from torch) (10.3.2.106)\n",
      "Requirement already satisfied: nvidia-cusolver-cu12==11.4.5.107 in /home/juann/anaconda3/envs/DDB/lib/python3.11/site-packages (from torch) (11.4.5.107)\n",
      "Requirement already satisfied: nvidia-cusparse-cu12==12.1.0.106 in /home/juann/anaconda3/envs/DDB/lib/python3.11/site-packages (from torch) (12.1.0.106)\n",
      "Requirement already satisfied: nvidia-nccl-cu12==2.19.3 in /home/juann/anaconda3/envs/DDB/lib/python3.11/site-packages (from torch) (2.19.3)\n",
      "Requirement already satisfied: nvidia-nvtx-cu12==12.1.105 in /home/juann/anaconda3/envs/DDB/lib/python3.11/site-packages (from torch) (12.1.105)\n",
      "Requirement already satisfied: triton==2.2.0 in /home/juann/anaconda3/envs/DDB/lib/python3.11/site-packages (from torch) (2.2.0)\n",
      "Requirement already satisfied: nvidia-nvjitlink-cu12 in /home/juann/anaconda3/envs/DDB/lib/python3.11/site-packages (from nvidia-cusolver-cu12==11.4.5.107->torch) (12.3.101)\n",
      "Requirement already satisfied: MarkupSafe>=2.0 in /home/juann/anaconda3/envs/DDB/lib/python3.11/site-packages (from jinja2->torch) (2.1.1)\n",
      "Requirement already satisfied: mpmath>=0.19 in /home/juann/anaconda3/envs/DDB/lib/python3.11/site-packages (from sympy->torch) (1.3.0)\n"
     ]
    }
   ],
   "source": [
    "!pip install torch"
   ]
  },
  {
   "cell_type": "code",
   "execution_count": 17,
   "id": "95929a97",
   "metadata": {},
   "outputs": [],
   "source": [
    "import torch"
   ]
  },
  {
   "cell_type": "markdown",
   "id": "609a3573",
   "metadata": {},
   "source": [
    "# FinBert Model Classification"
   ]
  },
  {
   "cell_type": "code",
   "execution_count": 1,
   "id": "30391482",
   "metadata": {},
   "outputs": [
    {
     "name": "stdout",
     "output_type": "stream",
     "text": [
      "Requirement already satisfied: transformers in /home/juann/anaconda3/envs/DDB/lib/python3.11/site-packages (4.37.2)\n",
      "Requirement already satisfied: filelock in /home/juann/anaconda3/envs/DDB/lib/python3.11/site-packages (from transformers) (3.13.1)\n",
      "Requirement already satisfied: huggingface-hub<1.0,>=0.19.3 in /home/juann/anaconda3/envs/DDB/lib/python3.11/site-packages (from transformers) (0.20.3)\n",
      "Requirement already satisfied: numpy>=1.17 in /home/juann/anaconda3/envs/DDB/lib/python3.11/site-packages (from transformers) (1.26.0)\n",
      "Requirement already satisfied: packaging>=20.0 in /home/juann/anaconda3/envs/DDB/lib/python3.11/site-packages (from transformers) (23.1)\n",
      "Requirement already satisfied: pyyaml>=5.1 in /home/juann/anaconda3/envs/DDB/lib/python3.11/site-packages (from transformers) (6.0.1)\n",
      "Requirement already satisfied: regex!=2019.12.17 in /home/juann/anaconda3/envs/DDB/lib/python3.11/site-packages (from transformers) (2023.12.25)\n",
      "Requirement already satisfied: requests in /home/juann/anaconda3/envs/DDB/lib/python3.11/site-packages (from transformers) (2.31.0)\n",
      "Requirement already satisfied: tokenizers<0.19,>=0.14 in /home/juann/anaconda3/envs/DDB/lib/python3.11/site-packages (from transformers) (0.15.1)\n",
      "Requirement already satisfied: safetensors>=0.4.1 in /home/juann/anaconda3/envs/DDB/lib/python3.11/site-packages (from transformers) (0.4.2)\n",
      "Requirement already satisfied: tqdm>=4.27 in /home/juann/anaconda3/envs/DDB/lib/python3.11/site-packages (from transformers) (4.65.0)\n",
      "Requirement already satisfied: fsspec>=2023.5.0 in /home/juann/anaconda3/envs/DDB/lib/python3.11/site-packages (from huggingface-hub<1.0,>=0.19.3->transformers) (2023.10.0)\n",
      "Requirement already satisfied: typing-extensions>=3.7.4.3 in /home/juann/anaconda3/envs/DDB/lib/python3.11/site-packages (from huggingface-hub<1.0,>=0.19.3->transformers) (4.7.1)\n",
      "Requirement already satisfied: charset-normalizer<4,>=2 in /home/juann/anaconda3/envs/DDB/lib/python3.11/site-packages (from requests->transformers) (2.0.4)\n",
      "Requirement already satisfied: idna<4,>=2.5 in /home/juann/anaconda3/envs/DDB/lib/python3.11/site-packages (from requests->transformers) (3.4)\n",
      "Requirement already satisfied: urllib3<3,>=1.21.1 in /home/juann/anaconda3/envs/DDB/lib/python3.11/site-packages (from requests->transformers) (1.26.18)\n",
      "Requirement already satisfied: certifi>=2017.4.17 in /home/juann/anaconda3/envs/DDB/lib/python3.11/site-packages (from requests->transformers) (2023.11.17)\n"
     ]
    }
   ],
   "source": [
    "!pip install transformers"
   ]
  },
  {
   "cell_type": "code",
   "execution_count": 2,
   "id": "c6ae3af3",
   "metadata": {},
   "outputs": [],
   "source": [
    "from transformers import AutoTokenizer, AutoModelForSequenceClassification\n",
    "from transformers import pipeline"
   ]
  },
  {
   "cell_type": "code",
   "execution_count": 13,
   "id": "a2d58976",
   "metadata": {},
   "outputs": [
    {
     "name": "stdout",
     "output_type": "stream",
     "text": [
      "Requirement already satisfied: torch in /home/juann/anaconda3/envs/DDB/lib/python3.11/site-packages (2.1.0)\n",
      "Requirement already satisfied: filelock in /home/juann/anaconda3/envs/DDB/lib/python3.11/site-packages (from torch) (3.13.1)\n",
      "Requirement already satisfied: typing-extensions in /home/juann/anaconda3/envs/DDB/lib/python3.11/site-packages (from torch) (4.10.0)\n",
      "Requirement already satisfied: sympy in /home/juann/anaconda3/envs/DDB/lib/python3.11/site-packages (from torch) (1.12)\n",
      "Requirement already satisfied: networkx in /home/juann/anaconda3/envs/DDB/lib/python3.11/site-packages (from torch) (3.2.1)\n",
      "Requirement already satisfied: jinja2 in /home/juann/anaconda3/envs/DDB/lib/python3.11/site-packages (from torch) (3.1.2)\n",
      "Requirement already satisfied: fsspec in /home/juann/anaconda3/envs/DDB/lib/python3.11/site-packages (from torch) (2023.10.0)\n",
      "Requirement already satisfied: MarkupSafe>=2.0 in /home/juann/anaconda3/envs/DDB/lib/python3.11/site-packages (from jinja2->torch) (2.1.1)\n",
      "Requirement already satisfied: mpmath>=0.19 in /home/juann/anaconda3/envs/DDB/lib/python3.11/site-packages (from sympy->torch) (1.3.0)\n"
     ]
    }
   ],
   "source": [
    "!pip install torch"
   ]
  },
  {
   "cell_type": "code",
   "execution_count": 3,
   "id": "02ca8639",
   "metadata": {},
   "outputs": [
    {
     "name": "stdout",
     "output_type": "stream",
     "text": [
      "2.1.0\n"
     ]
    }
   ],
   "source": [
    "!python -c \"import torch; print(torch.__version__)\""
   ]
  },
  {
   "cell_type": "code",
   "execution_count": 4,
   "id": "fe2c112b",
   "metadata": {},
   "outputs": [],
   "source": [
    "tokenizer = AutoTokenizer.from_pretrained(\"ProsusAI/finbert\")"
   ]
  },
  {
   "cell_type": "code",
   "execution_count": 5,
   "id": "80d25145",
   "metadata": {},
   "outputs": [
    {
     "data": {
      "application/vnd.jupyter.widget-view+json": {
       "model_id": "127d8d534c384175a6e011f8b7442555",
       "version_major": 2,
       "version_minor": 0
      },
      "text/plain": [
       "pytorch_model.bin:   0%|          | 0.00/438M [00:00<?, ?B/s]"
      ]
     },
     "metadata": {},
     "output_type": "display_data"
    },
    {
     "name": "stderr",
     "output_type": "stream",
     "text": [
      "/home/juann/anaconda3/envs/DDB/lib/python3.11/site-packages/torch/_utils.py:831: UserWarning: TypedStorage is deprecated. It will be removed in the future and UntypedStorage will be the only storage class. This should only matter to you if you are using storages directly.  To access UntypedStorage directly, use tensor.untyped_storage() instead of tensor.storage()\n",
      "  return self.fget.__get__(instance, owner)()\n"
     ]
    }
   ],
   "source": [
    "model = AutoModelForSequenceClassification.from_pretrained(\"ProsusAI/finbert\")"
   ]
  },
  {
   "cell_type": "code",
   "execution_count": 6,
   "id": "325e12ab",
   "metadata": {},
   "outputs": [],
   "source": [
    "pipe = pipeline(\"text-classification\", model=model, tokenizer=tokenizer)"
   ]
  },
  {
   "cell_type": "code",
   "execution_count": 7,
   "id": "08a632a0",
   "metadata": {},
   "outputs": [],
   "source": [
    "sentences = ['growth is strong and we have plenty of liquidity.', \n",
    "               'there is a shortage of capital, and we need extra financing.', \n",
    "              'formulation patents might protect Vasotec to a limited extent.']"
   ]
  },
  {
   "cell_type": "code",
   "execution_count": 8,
   "id": "c7583be4",
   "metadata": {},
   "outputs": [],
   "source": [
    "results = pipe(sentences)"
   ]
  },
  {
   "cell_type": "code",
   "execution_count": 9,
   "id": "5c98ca93",
   "metadata": {},
   "outputs": [
    {
     "data": {
      "text/plain": [
       "[{'label': 'positive', 'score': 0.8977471590042114},\n",
       " {'label': 'negative', 'score': 0.8539325594902039},\n",
       " {'label': 'neutral', 'score': 0.8415032029151917}]"
      ]
     },
     "execution_count": 9,
     "metadata": {},
     "output_type": "execute_result"
    }
   ],
   "source": [
    "results"
   ]
  },
  {
   "cell_type": "code",
   "execution_count": 10,
   "id": "fc30f92d",
   "metadata": {},
   "outputs": [],
   "source": [
    "import pandas as pd\n",
    "import glob"
   ]
  },
  {
   "cell_type": "code",
   "execution_count": 11,
   "id": "2ec9e935",
   "metadata": {},
   "outputs": [],
   "source": [
    "file_path = '../Data/Prepared/NormalAnalysis/'"
   ]
  },
  {
   "cell_type": "code",
   "execution_count": 12,
   "id": "c947fd91",
   "metadata": {},
   "outputs": [],
   "source": [
    "files = glob.glob(f'{file_path}*.csv')"
   ]
  },
  {
   "cell_type": "code",
   "execution_count": 13,
   "id": "d820640c",
   "metadata": {},
   "outputs": [
    {
     "data": {
      "text/plain": [
       "[]"
      ]
     },
     "execution_count": 13,
     "metadata": {},
     "output_type": "execute_result"
    }
   ],
   "source": [
    "files"
   ]
  },
  {
   "cell_type": "code",
   "execution_count": 17,
   "id": "7f883033",
   "metadata": {},
   "outputs": [],
   "source": [
    "df = pd.read_csv('../../Data/Prepared/CleanDatasets/Tweet_valid_clean.csv')"
   ]
  },
  {
   "cell_type": "code",
   "execution_count": 19,
   "id": "7f995534",
   "metadata": {},
   "outputs": [],
   "source": [
    "results = pipe(df['clean_text'][1])"
   ]
  },
  {
   "cell_type": "code",
   "execution_count": 20,
   "id": "44882ecb",
   "metadata": {},
   "outputs": [
    {
     "data": {
      "text/plain": [
       "{'label': 'neutral', 'score': 0.8737572431564331}"
      ]
     },
     "execution_count": 20,
     "metadata": {},
     "output_type": "execute_result"
    }
   ],
   "source": [
    "results[0]"
   ]
  },
  {
   "cell_type": "code",
   "execution_count": 21,
   "id": "a8448465",
   "metadata": {},
   "outputs": [],
   "source": [
    "df['label'] = df['clean_text'].apply(lambda x: pipe(x)[0].get('label'))"
   ]
  },
  {
   "cell_type": "code",
   "execution_count": 22,
   "id": "ab9c9604",
   "metadata": {},
   "outputs": [],
   "source": [
    "df['score'] = df['clean_text'].apply(lambda x: pipe(x)[0].get('score'))"
   ]
  },
  {
   "cell_type": "code",
   "execution_count": 23,
   "id": "7af3e9f6",
   "metadata": {},
   "outputs": [
    {
     "data": {
      "text/html": [
       "<div>\n",
       "<style scoped>\n",
       "    .dataframe tbody tr th:only-of-type {\n",
       "        vertical-align: middle;\n",
       "    }\n",
       "\n",
       "    .dataframe tbody tr th {\n",
       "        vertical-align: top;\n",
       "    }\n",
       "\n",
       "    .dataframe thead th {\n",
       "        text-align: right;\n",
       "    }\n",
       "</style>\n",
       "<table border=\"1\" class=\"dataframe\">\n",
       "  <thead>\n",
       "    <tr style=\"text-align: right;\">\n",
       "      <th></th>\n",
       "      <th>text</th>\n",
       "      <th>label</th>\n",
       "      <th>clean_text</th>\n",
       "      <th>topic</th>\n",
       "      <th>score</th>\n",
       "    </tr>\n",
       "  </thead>\n",
       "  <tbody>\n",
       "    <tr>\n",
       "      <th>0</th>\n",
       "      <td>Analyst call of the day for @CNBCPro subscribe...</td>\n",
       "      <td>neutral</td>\n",
       "      <td>analyst call day cnbcpro subscriber goldman sa...</td>\n",
       "      <td>Analyst Update</td>\n",
       "      <td>0.859993</td>\n",
       "    </tr>\n",
       "    <tr>\n",
       "      <th>1</th>\n",
       "      <td>Loop upgrades CSX to buy, says it's a good pla...</td>\n",
       "      <td>neutral</td>\n",
       "      <td>loop upgrade csx buy say good place park money...</td>\n",
       "      <td>Analyst Update</td>\n",
       "      <td>0.873757</td>\n",
       "    </tr>\n",
       "    <tr>\n",
       "      <th>2</th>\n",
       "      <td>BofA believes we're already in a recession — a...</td>\n",
       "      <td>neutral</td>\n",
       "      <td>bofa belief already recession say stock take b...</td>\n",
       "      <td>Analyst Update</td>\n",
       "      <td>0.778339</td>\n",
       "    </tr>\n",
       "    <tr>\n",
       "      <th>3</th>\n",
       "      <td>JPMorgan sees these derivative plays as best w...</td>\n",
       "      <td>neutral</td>\n",
       "      <td>jpmorgan see derivative play best way bet elec...</td>\n",
       "      <td>Analyst Update</td>\n",
       "      <td>0.923112</td>\n",
       "    </tr>\n",
       "    <tr>\n",
       "      <th>4</th>\n",
       "      <td>Morgan Stanley's Huberty sees Apple earnings m...</td>\n",
       "      <td>neutral</td>\n",
       "      <td>morgan stanley huberty see apple earnings miss...</td>\n",
       "      <td>Analyst Update</td>\n",
       "      <td>0.815423</td>\n",
       "    </tr>\n",
       "    <tr>\n",
       "      <th>...</th>\n",
       "      <td>...</td>\n",
       "      <td>...</td>\n",
       "      <td>...</td>\n",
       "      <td>...</td>\n",
       "      <td>...</td>\n",
       "    </tr>\n",
       "    <tr>\n",
       "      <th>4112</th>\n",
       "      <td>Dollar bonds of Chinese developers fall as str...</td>\n",
       "      <td>negative</td>\n",
       "      <td>dollar bond chinese developer fall stress spre...</td>\n",
       "      <td>Treasuries | Corporate Debt</td>\n",
       "      <td>0.882174</td>\n",
       "    </tr>\n",
       "    <tr>\n",
       "      <th>4113</th>\n",
       "      <td>Longer maturity Treasury yields have scope to ...</td>\n",
       "      <td>positive</td>\n",
       "      <td>longer maturity treasury yield scope go higher...</td>\n",
       "      <td>Treasuries | Corporate Debt</td>\n",
       "      <td>0.530611</td>\n",
       "    </tr>\n",
       "    <tr>\n",
       "      <th>4114</th>\n",
       "      <td>Pimco buys €1bn of Apollo buyout loans from ba...</td>\n",
       "      <td>neutral</td>\n",
       "      <td>pimco buy bn apollo buyout loan bank http co n...</td>\n",
       "      <td>Treasuries | Corporate Debt</td>\n",
       "      <td>0.912260</td>\n",
       "    </tr>\n",
       "    <tr>\n",
       "      <th>4115</th>\n",
       "      <td>Analysis: Banks' snubbing of junk-rated loan f...</td>\n",
       "      <td>neutral</td>\n",
       "      <td>analysis bank snubbing junk rated loan fund wo...</td>\n",
       "      <td>Treasuries | Corporate Debt</td>\n",
       "      <td>0.531073</td>\n",
       "    </tr>\n",
       "    <tr>\n",
       "      <th>4116</th>\n",
       "      <td>U.S. Treasury seeks information on digital ass...</td>\n",
       "      <td>neutral</td>\n",
       "      <td>u treasury seek information digital asset risk...</td>\n",
       "      <td>Treasuries | Corporate Debt</td>\n",
       "      <td>0.942291</td>\n",
       "    </tr>\n",
       "  </tbody>\n",
       "</table>\n",
       "<p>4117 rows × 5 columns</p>\n",
       "</div>"
      ],
      "text/plain": [
       "                                                   text     label  \\\n",
       "0     Analyst call of the day for @CNBCPro subscribe...   neutral   \n",
       "1     Loop upgrades CSX to buy, says it's a good pla...   neutral   \n",
       "2     BofA believes we're already in a recession — a...   neutral   \n",
       "3     JPMorgan sees these derivative plays as best w...   neutral   \n",
       "4     Morgan Stanley's Huberty sees Apple earnings m...   neutral   \n",
       "...                                                 ...       ...   \n",
       "4112  Dollar bonds of Chinese developers fall as str...  negative   \n",
       "4113  Longer maturity Treasury yields have scope to ...  positive   \n",
       "4114  Pimco buys €1bn of Apollo buyout loans from ba...   neutral   \n",
       "4115  Analysis: Banks' snubbing of junk-rated loan f...   neutral   \n",
       "4116  U.S. Treasury seeks information on digital ass...   neutral   \n",
       "\n",
       "                                             clean_text  \\\n",
       "0     analyst call day cnbcpro subscriber goldman sa...   \n",
       "1     loop upgrade csx buy say good place park money...   \n",
       "2     bofa belief already recession say stock take b...   \n",
       "3     jpmorgan see derivative play best way bet elec...   \n",
       "4     morgan stanley huberty see apple earnings miss...   \n",
       "...                                                 ...   \n",
       "4112  dollar bond chinese developer fall stress spre...   \n",
       "4113  longer maturity treasury yield scope go higher...   \n",
       "4114  pimco buy bn apollo buyout loan bank http co n...   \n",
       "4115  analysis bank snubbing junk rated loan fund wo...   \n",
       "4116  u treasury seek information digital asset risk...   \n",
       "\n",
       "                            topic     score  \n",
       "0                  Analyst Update  0.859993  \n",
       "1                  Analyst Update  0.873757  \n",
       "2                  Analyst Update  0.778339  \n",
       "3                  Analyst Update  0.923112  \n",
       "4                  Analyst Update  0.815423  \n",
       "...                           ...       ...  \n",
       "4112  Treasuries | Corporate Debt  0.882174  \n",
       "4113  Treasuries | Corporate Debt  0.530611  \n",
       "4114  Treasuries | Corporate Debt  0.912260  \n",
       "4115  Treasuries | Corporate Debt  0.531073  \n",
       "4116  Treasuries | Corporate Debt  0.942291  \n",
       "\n",
       "[4117 rows x 5 columns]"
      ]
     },
     "execution_count": 23,
     "metadata": {},
     "output_type": "execute_result"
    }
   ],
   "source": [
    "df"
   ]
  },
  {
   "cell_type": "code",
   "execution_count": 28,
   "id": "721642c7",
   "metadata": {},
   "outputs": [
    {
     "data": {
      "text/plain": [
       "'Several Wall Street analysts have recently cut their price targets on Apple stock.   Are these experts making the right choice?  https://t.co/7H2b7MOAhf'"
      ]
     },
     "execution_count": 28,
     "metadata": {},
     "output_type": "execute_result"
    }
   ],
   "source": [
    "df[df['label'] == 'negative'].iloc[2]['text']"
   ]
  },
  {
   "cell_type": "code",
   "execution_count": null,
   "id": "47187597",
   "metadata": {},
   "outputs": [],
   "source": []
  }
 ],
 "metadata": {
  "kernelspec": {
   "display_name": "Python 3 (ipykernel)",
   "language": "python",
   "name": "python3"
  },
  "language_info": {
   "codemirror_mode": {
    "name": "ipython",
    "version": 3
   },
   "file_extension": ".py",
   "mimetype": "text/x-python",
   "name": "python",
   "nbconvert_exporter": "python",
   "pygments_lexer": "ipython3",
   "version": "3.11.4"
  }
 },
 "nbformat": 4,
 "nbformat_minor": 5
}
