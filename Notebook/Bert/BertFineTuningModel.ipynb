{
 "cells": [
  {
   "cell_type": "markdown",
   "id": "aa2ab3d0",
   "metadata": {},
   "source": [
    "## Fine Tuning Bert Model"
   ]
  },
  {
   "cell_type": "markdown",
   "id": "dfab5fbe",
   "metadata": {},
   "source": []
  },
  {
   "cell_type": "code",
   "execution_count": 1,
   "id": "8e13953e",
   "metadata": {},
   "outputs": [],
   "source": [
    "from transformers import BertTokenizer, BertModel,get_linear_schedule_with_warmup"
   ]
  },
  {
   "cell_type": "code",
   "execution_count": 3,
   "id": "8db6fcfa",
   "metadata": {},
   "outputs": [],
   "source": [
    "import pandas as pd\n",
    "import glob\n",
    "import seaborn as sns\n",
    "import torch\n",
    "from torch.utils.data import Dataset, DataLoader\n",
    "import torch.nn.functional as F\n",
    "from torch import nn, optim\n",
    "import pandas as pd\n",
    "import numpy as np\n",
    "import matplotlib.pyplot as plt\n",
    "\n",
    "\n",
    "from sklearn.model_selection import train_test_split\n",
    "from sklearn.metrics import confusion_matrix, classification_report\n",
    "\n",
    "from collections import defaultdict\n",
    "from textwrap import wrap\n",
    "from transformers import DataCollatorWithPadding\n",
    "from transformers import logging\n",
    "logging.set_verbosity_error()\n"
   ]
  },
  {
   "cell_type": "code",
   "execution_count": 4,
   "id": "f1475379",
   "metadata": {},
   "outputs": [],
   "source": [
    "from data_loader import TextDataset\n",
    "from model import SentimentClassifierModel, train_bert_model, eval_bert_model, get_bert_predictions"
   ]
  },
  {
   "cell_type": "code",
   "execution_count": 5,
   "id": "9a206a87",
   "metadata": {},
   "outputs": [],
   "source": [
    "pre_trained_model_ckpt = \"bert-base-uncased\"\n",
    "tokenizer = BertTokenizer.from_pretrained(pre_trained_model_ckpt)\n",
    "collator = DataCollatorWithPadding(tokenizer=tokenizer, padding=\"longest\")"
   ]
  },
  {
   "cell_type": "code",
   "execution_count": 6,
   "id": "30c28347",
   "metadata": {},
   "outputs": [],
   "source": [
    "RANDOM_SEED = 42\n",
    "MAX_LEN = 512\n",
    "BATCH_SIZE = 32"
   ]
  },
  {
   "cell_type": "code",
   "execution_count": 7,
   "id": "f132f78c",
   "metadata": {},
   "outputs": [],
   "source": [
    "np.random.seed(RANDOM_SEED)\n",
    "torch.manual_seed(RANDOM_SEED)\n",
    "device = torch.device(\"cuda:0\" if torch.cuda.is_available() else \"cpu\")"
   ]
  },
  {
   "cell_type": "code",
   "execution_count": 8,
   "id": "7bc9dbe6",
   "metadata": {},
   "outputs": [],
   "source": [
    "file_path = '../../Data/Prepared/CleanDatasets/'"
   ]
  },
  {
   "cell_type": "code",
   "execution_count": 9,
   "id": "2cbb2fdc",
   "metadata": {},
   "outputs": [],
   "source": [
    "files = glob.glob(f'{file_path}*.csv')"
   ]
  },
  {
   "cell_type": "code",
   "execution_count": 10,
   "id": "abcd9103",
   "metadata": {},
   "outputs": [
    {
     "data": {
      "text/plain": [
       "['../../Data/Prepared/CleanDatasets/financial_news_info.csv',\n",
       " '../../Data/Prepared/CleanDatasets/fin_phrase_bank_clean.csv',\n",
       " '../../Data/Prepared/CleanDatasets/Tweet_valid_clean.csv',\n",
       " '../../Data/Prepared/CleanDatasets/Tweet_train_clean.csv']"
      ]
     },
     "execution_count": 10,
     "metadata": {},
     "output_type": "execute_result"
    }
   ],
   "source": [
    "files"
   ]
  },
  {
   "cell_type": "code",
   "execution_count": 11,
   "id": "f736ad56",
   "metadata": {},
   "outputs": [],
   "source": [
    "df_train = pd.read_csv('../../Data/Prepared/CleanDatasets/Tweet_train_clean.csv')"
   ]
  },
  {
   "cell_type": "code",
   "execution_count": 12,
   "id": "af3e3268",
   "metadata": {},
   "outputs": [],
   "source": [
    "df_valid = pd.read_csv('../../Data/Prepared/CleanDatasets/Tweet_valid_clean.csv')"
   ]
  },
  {
   "cell_type": "code",
   "execution_count": 13,
   "id": "d9ab16fb",
   "metadata": {},
   "outputs": [],
   "source": [
    "df_val, df_test = train_test_split(df_valid, test_size = 0.2, random_state = RANDOM_SEED)"
   ]
  },
  {
   "cell_type": "code",
   "execution_count": 14,
   "id": "d76cbbc5",
   "metadata": {},
   "outputs": [
    {
     "data": {
      "text/html": [
       "<div>\n",
       "<style scoped>\n",
       "    .dataframe tbody tr th:only-of-type {\n",
       "        vertical-align: middle;\n",
       "    }\n",
       "\n",
       "    .dataframe tbody tr th {\n",
       "        vertical-align: top;\n",
       "    }\n",
       "\n",
       "    .dataframe thead th {\n",
       "        text-align: right;\n",
       "    }\n",
       "</style>\n",
       "<table border=\"1\" class=\"dataframe\">\n",
       "  <thead>\n",
       "    <tr style=\"text-align: right;\">\n",
       "      <th></th>\n",
       "      <th>text</th>\n",
       "      <th>label</th>\n",
       "      <th>clean_text</th>\n",
       "      <th>topic</th>\n",
       "    </tr>\n",
       "  </thead>\n",
       "  <tbody>\n",
       "    <tr>\n",
       "      <th>0</th>\n",
       "      <td>Here are Thursday's biggest analyst calls: App...</td>\n",
       "      <td>0</td>\n",
       "      <td>thursday biggest analyst call apple amazon tes...</td>\n",
       "      <td>Analyst Update</td>\n",
       "    </tr>\n",
       "    <tr>\n",
       "      <th>1</th>\n",
       "      <td>Buy Las Vegas Sands as travel to Singapore bui...</td>\n",
       "      <td>0</td>\n",
       "      <td>buy la vega sand travel singapore build well f...</td>\n",
       "      <td>Analyst Update</td>\n",
       "    </tr>\n",
       "    <tr>\n",
       "      <th>2</th>\n",
       "      <td>Piper Sandler downgrades DocuSign to sell, cit...</td>\n",
       "      <td>0</td>\n",
       "      <td>piper sandler downgrade docusign sell citing e...</td>\n",
       "      <td>Analyst Update</td>\n",
       "    </tr>\n",
       "    <tr>\n",
       "      <th>3</th>\n",
       "      <td>Analysts react to Tesla's latest earnings, bre...</td>\n",
       "      <td>0</td>\n",
       "      <td>analyst react tesla latest earnings break next...</td>\n",
       "      <td>Analyst Update</td>\n",
       "    </tr>\n",
       "    <tr>\n",
       "      <th>4</th>\n",
       "      <td>Netflix and its peers are set for a ‘return to...</td>\n",
       "      <td>0</td>\n",
       "      <td>netflix peer set return growth analyst say giv...</td>\n",
       "      <td>Analyst Update</td>\n",
       "    </tr>\n",
       "  </tbody>\n",
       "</table>\n",
       "</div>"
      ],
      "text/plain": [
       "                                                text  label  \\\n",
       "0  Here are Thursday's biggest analyst calls: App...      0   \n",
       "1  Buy Las Vegas Sands as travel to Singapore bui...      0   \n",
       "2  Piper Sandler downgrades DocuSign to sell, cit...      0   \n",
       "3  Analysts react to Tesla's latest earnings, bre...      0   \n",
       "4  Netflix and its peers are set for a ‘return to...      0   \n",
       "\n",
       "                                          clean_text           topic  \n",
       "0  thursday biggest analyst call apple amazon tes...  Analyst Update  \n",
       "1  buy la vega sand travel singapore build well f...  Analyst Update  \n",
       "2  piper sandler downgrade docusign sell citing e...  Analyst Update  \n",
       "3  analyst react tesla latest earnings break next...  Analyst Update  \n",
       "4  netflix peer set return growth analyst say giv...  Analyst Update  "
      ]
     },
     "execution_count": 14,
     "metadata": {},
     "output_type": "execute_result"
    }
   ],
   "source": [
    "df_train.head()"
   ]
  },
  {
   "cell_type": "code",
   "execution_count": 15,
   "id": "178e5c35",
   "metadata": {},
   "outputs": [
    {
     "name": "stdout",
     "output_type": "stream",
     "text": [
      "validation: (3293, 4)\n",
      "Test: (824, 4)\n",
      "Train: (16990, 4)\n"
     ]
    }
   ],
   "source": [
    "print(f\"validation: {df_val.shape}\")\n",
    "print(f\"Test: {df_test.shape}\")\n",
    "print(f\"Train: {df_train.shape}\")\n"
   ]
  },
  {
   "cell_type": "code",
   "execution_count": 16,
   "id": "da2f4529",
   "metadata": {},
   "outputs": [
    {
     "data": {
      "text/plain": [
       "[0, 1, 2, 3, 4, 5, 6, 7, 8, 9, 10, 11, 12, 13, 14, 15, 16, 17, 18, 19]"
      ]
     },
     "execution_count": 16,
     "metadata": {},
     "output_type": "execute_result"
    }
   ],
   "source": [
    "class_names = sorted(df_train.label.unique())\n",
    "class_names"
   ]
  },
  {
   "cell_type": "code",
   "execution_count": 17,
   "id": "3bdee4a8",
   "metadata": {},
   "outputs": [
    {
     "data": {
      "text/plain": [
       "label\n",
       "2     3545\n",
       "18    2118\n",
       "14    1822\n",
       "9     1557\n",
       "5      987\n",
       "16     985\n",
       "1      837\n",
       "19     823\n",
       "7      624\n",
       "6      524\n",
       "15     501\n",
       "17     495\n",
       "12     487\n",
       "13     471\n",
       "4      359\n",
       "3      321\n",
       "0      255\n",
       "8      166\n",
       "10      69\n",
       "11      44\n",
       "Name: count, dtype: int64"
      ]
     },
     "execution_count": 17,
     "metadata": {},
     "output_type": "execute_result"
    }
   ],
   "source": [
    "df_train.label.value_counts()"
   ]
  },
  {
   "cell_type": "code",
   "execution_count": 18,
   "id": "bea8b62d",
   "metadata": {},
   "outputs": [
    {
     "data": {
      "text/plain": [
       "['Analyst Update',\n",
       " 'Company | Product News',\n",
       " 'Currencies',\n",
       " 'Dividend',\n",
       " 'Earnings',\n",
       " 'Energy | Oil',\n",
       " 'Fed | Central Banks',\n",
       " 'Financials',\n",
       " 'General News | Opinion',\n",
       " 'Gold | Metals | Materials',\n",
       " 'IPO',\n",
       " 'Legal | Regulation',\n",
       " 'M&A | Investments',\n",
       " 'Macro',\n",
       " 'Markets',\n",
       " 'Personnel Change',\n",
       " 'Politics',\n",
       " 'Stock Commentary',\n",
       " 'Stock Movement',\n",
       " 'Treasuries | Corporate Debt']"
      ]
     },
     "execution_count": 18,
     "metadata": {},
     "output_type": "execute_result"
    }
   ],
   "source": [
    "sorted(df_train.topic.unique())"
   ]
  },
  {
   "cell_type": "code",
   "execution_count": 19,
   "id": "f81e7812",
   "metadata": {},
   "outputs": [],
   "source": [
    "def create_data_loader(\n",
    "    df, tokenizer, max_len=MAX_LEN, batch_size=BATCH_SIZE, include_raw_text=False\n",
    "):\n",
    "    ds = TextDataset(\n",
    "        text=df.text.to_list(),\n",
    "        targets=df.label.to_list(),\n",
    "        tokenizer=tokenizer,\n",
    "        max_len=max_len,\n",
    "        include_raw_text=include_raw_text,\n",
    "    )\n",
    "    return DataLoader(ds, batch_size=batch_size, collate_fn=collator, shuffle=True)\n"
   ]
  },
  {
   "cell_type": "code",
   "execution_count": 20,
   "id": "32c80c35",
   "metadata": {},
   "outputs": [],
   "source": [
    "train_data_loader = create_data_loader(df_train, tokenizer)"
   ]
  },
  {
   "cell_type": "code",
   "execution_count": 21,
   "id": "3ad36edf",
   "metadata": {},
   "outputs": [],
   "source": [
    "val_data_loader = create_data_loader(df_val, tokenizer)"
   ]
  },
  {
   "cell_type": "code",
   "execution_count": 22,
   "id": "aa3c9f95",
   "metadata": {},
   "outputs": [],
   "source": [
    "test_data_loader = create_data_loader(df_test, tokenizer)"
   ]
  },
  {
   "cell_type": "code",
   "execution_count": 23,
   "id": "aed1835b",
   "metadata": {},
   "outputs": [],
   "source": [
    "model = SentimentClassifierModel(len(class_names))\n",
    "model = model.to(device)"
   ]
  },
  {
   "cell_type": "code",
   "execution_count": 24,
   "id": "f3611e8d",
   "metadata": {},
   "outputs": [
    {
     "name": "stdout",
     "output_type": "stream",
     "text": [
      "{'input_ids': tensor([[ 101, 3041, 1024,  ...,    0,    0,    0],\n",
      "        [ 101, 2343, 8418,  ...,    0,    0,    0],\n",
      "        [ 101, 1002, 2002,  ...,    0,    0,    0],\n",
      "        ...,\n",
      "        [ 101, 1996, 4004,  ...,    0,    0,    0],\n",
      "        [ 101, 3577, 2097,  ...,    0,    0,    0],\n",
      "        [ 101, 1002, 1056,  ...,    0,    0,    0]]), 'attention_mask': tensor([[1, 1, 1,  ..., 0, 0, 0],\n",
      "        [1, 1, 1,  ..., 0, 0, 0],\n",
      "        [1, 1, 1,  ..., 0, 0, 0],\n",
      "        ...,\n",
      "        [1, 1, 1,  ..., 0, 0, 0],\n",
      "        [1, 1, 1,  ..., 0, 0, 0],\n",
      "        [1, 1, 1,  ..., 0, 0, 0]]), 'targets': tensor([16,  9, 18, 15,  7, 18, 14,  2,  2,  2, 19, 14,  2,  1,  1,  6,  6, 18,\n",
      "         5, 19, 18, 14,  7, 16, 14, 17, 18,  6, 18, 14,  1,  2])}\n",
      "dict_keys(['input_ids', 'attention_mask', 'targets'])\n",
      "torch.Size([32, 86])\n",
      "torch.Size([32, 86])\n",
      "torch.Size([32])\n"
     ]
    }
   ],
   "source": [
    "data = next(iter(train_data_loader))\n",
    "\n",
    "print(data)\n",
    "print(data.keys()) # dict_keys(['input_ids', 'attention_mask', 'targets'])\n",
    "\n",
    "print(data['input_ids'].shape) # torch.Size([16, 512])\n",
    "\n",
    "print(data['attention_mask'].shape) # torch.Size([16, 512])\n",
    "\n",
    "print(data['targets'].shape) # torch.Size([16])"
   ]
  },
  {
   "cell_type": "code",
   "execution_count": 25,
   "id": "80017164",
   "metadata": {},
   "outputs": [
    {
     "data": {
      "text/plain": [
       "tensor([[0.0176, 0.0373, 0.0817, 0.0332, 0.0378, 0.1040, 0.0387, 0.0328, 0.0310,\n",
       "         0.0363, 0.0597, 0.0372, 0.0425, 0.1018, 0.0202, 0.0966, 0.0283, 0.0319,\n",
       "         0.0973, 0.0340],\n",
       "        [0.0261, 0.0483, 0.0539, 0.0284, 0.0397, 0.1175, 0.0448, 0.0423, 0.0421,\n",
       "         0.0491, 0.0565, 0.0380, 0.0263, 0.0669, 0.0308, 0.1448, 0.0276, 0.0299,\n",
       "         0.0480, 0.0392],\n",
       "        [0.0259, 0.0423, 0.0651, 0.0211, 0.0539, 0.1072, 0.0308, 0.0245, 0.0393,\n",
       "         0.0434, 0.0526, 0.0378, 0.0397, 0.0716, 0.0261, 0.1252, 0.0251, 0.0324,\n",
       "         0.0876, 0.0485],\n",
       "        [0.0147, 0.0389, 0.0863, 0.0287, 0.0403, 0.0973, 0.0407, 0.0336, 0.0502,\n",
       "         0.0435, 0.0633, 0.0457, 0.0439, 0.0714, 0.0244, 0.1058, 0.0364, 0.0298,\n",
       "         0.0686, 0.0366],\n",
       "        [0.0253, 0.0409, 0.0642, 0.0224, 0.0432, 0.0983, 0.0402, 0.0432, 0.0451,\n",
       "         0.0603, 0.0510, 0.0403, 0.0355, 0.0687, 0.0292, 0.1085, 0.0332, 0.0379,\n",
       "         0.0717, 0.0409],\n",
       "        [0.0209, 0.0489, 0.0778, 0.0196, 0.0502, 0.0827, 0.0474, 0.0448, 0.0206,\n",
       "         0.0439, 0.0652, 0.0434, 0.0278, 0.0789, 0.0271, 0.1442, 0.0194, 0.0259,\n",
       "         0.0754, 0.0358],\n",
       "        [0.0173, 0.0565, 0.0867, 0.0310, 0.0460, 0.0716, 0.0350, 0.0325, 0.0207,\n",
       "         0.0437, 0.0690, 0.0621, 0.0385, 0.0595, 0.0222, 0.1319, 0.0283, 0.0474,\n",
       "         0.0696, 0.0305],\n",
       "        [0.0234, 0.0586, 0.0764, 0.0251, 0.0437, 0.0988, 0.0405, 0.0309, 0.0487,\n",
       "         0.0554, 0.0479, 0.0502, 0.0277, 0.0672, 0.0246, 0.0859, 0.0359, 0.0374,\n",
       "         0.0839, 0.0376],\n",
       "        [0.0330, 0.0617, 0.0551, 0.0277, 0.0403, 0.0771, 0.0533, 0.0475, 0.0494,\n",
       "         0.0719, 0.0569, 0.0495, 0.0348, 0.0544, 0.0323, 0.1022, 0.0304, 0.0278,\n",
       "         0.0603, 0.0345],\n",
       "        [0.0164, 0.0373, 0.0970, 0.0287, 0.0404, 0.1026, 0.0569, 0.0332, 0.0270,\n",
       "         0.0438, 0.0704, 0.0553, 0.0377, 0.0713, 0.0305, 0.0917, 0.0234, 0.0396,\n",
       "         0.0504, 0.0464],\n",
       "        [0.0229, 0.0484, 0.0485, 0.0217, 0.0382, 0.0922, 0.0390, 0.0406, 0.0397,\n",
       "         0.0611, 0.0416, 0.0503, 0.0341, 0.0708, 0.0329, 0.1318, 0.0336, 0.0291,\n",
       "         0.0724, 0.0510],\n",
       "        [0.0200, 0.0525, 0.0558, 0.0231, 0.0487, 0.1025, 0.0512, 0.0233, 0.0333,\n",
       "         0.0580, 0.0665, 0.0466, 0.0318, 0.0902, 0.0205, 0.1242, 0.0301, 0.0293,\n",
       "         0.0618, 0.0308],\n",
       "        [0.0228, 0.0471, 0.0676, 0.0250, 0.0673, 0.1169, 0.0523, 0.0305, 0.0307,\n",
       "         0.0362, 0.0584, 0.0365, 0.0376, 0.0891, 0.0263, 0.1030, 0.0292, 0.0329,\n",
       "         0.0607, 0.0300],\n",
       "        [0.0211, 0.0652, 0.0694, 0.0247, 0.0457, 0.0869, 0.0411, 0.0380, 0.0351,\n",
       "         0.0678, 0.0594, 0.0485, 0.0413, 0.0518, 0.0210, 0.0933, 0.0280, 0.0377,\n",
       "         0.0770, 0.0470],\n",
       "        [0.0241, 0.0460, 0.0905, 0.0212, 0.0442, 0.1171, 0.0460, 0.0255, 0.0346,\n",
       "         0.0304, 0.0594, 0.0413, 0.0314, 0.0666, 0.0205, 0.1585, 0.0283, 0.0281,\n",
       "         0.0489, 0.0373],\n",
       "        [0.0229, 0.0503, 0.0604, 0.0369, 0.0552, 0.0989, 0.0499, 0.0412, 0.0482,\n",
       "         0.0587, 0.0549, 0.0479, 0.0347, 0.0702, 0.0297, 0.0709, 0.0319, 0.0291,\n",
       "         0.0582, 0.0498],\n",
       "        [0.0204, 0.0510, 0.0782, 0.0211, 0.0478, 0.1128, 0.0533, 0.0224, 0.0261,\n",
       "         0.0406, 0.0543, 0.0261, 0.0318, 0.0922, 0.0179, 0.1744, 0.0168, 0.0239,\n",
       "         0.0502, 0.0386],\n",
       "        [0.0270, 0.0470, 0.0932, 0.0217, 0.0544, 0.1486, 0.0277, 0.0309, 0.0391,\n",
       "         0.0441, 0.0478, 0.0462, 0.0272, 0.0729, 0.0219, 0.1127, 0.0233, 0.0359,\n",
       "         0.0546, 0.0238],\n",
       "        [0.0174, 0.0513, 0.0776, 0.0279, 0.0474, 0.0910, 0.0420, 0.0365, 0.0427,\n",
       "         0.0519, 0.0560, 0.0506, 0.0385, 0.0509, 0.0273, 0.1075, 0.0258, 0.0331,\n",
       "         0.0709, 0.0538],\n",
       "        [0.0216, 0.0487, 0.0954, 0.0244, 0.0413, 0.1090, 0.0359, 0.0195, 0.0300,\n",
       "         0.0497, 0.0581, 0.0592, 0.0272, 0.0573, 0.0197, 0.1394, 0.0251, 0.0281,\n",
       "         0.0723, 0.0381],\n",
       "        [0.0209, 0.0473, 0.0631, 0.0207, 0.0564, 0.1104, 0.0419, 0.0368, 0.0313,\n",
       "         0.0616, 0.0442, 0.0471, 0.0441, 0.0617, 0.0248, 0.1197, 0.0288, 0.0216,\n",
       "         0.0861, 0.0315],\n",
       "        [0.0225, 0.0430, 0.0720, 0.0351, 0.0485, 0.0849, 0.0496, 0.0417, 0.0376,\n",
       "         0.0421, 0.0474, 0.0382, 0.0368, 0.0744, 0.0260, 0.1231, 0.0373, 0.0323,\n",
       "         0.0626, 0.0449],\n",
       "        [0.0167, 0.0567, 0.0709, 0.0187, 0.0481, 0.1147, 0.0355, 0.0230, 0.0297,\n",
       "         0.0333, 0.0517, 0.0488, 0.0421, 0.0642, 0.0295, 0.1496, 0.0306, 0.0292,\n",
       "         0.0742, 0.0326],\n",
       "        [0.0118, 0.0319, 0.0920, 0.0272, 0.0420, 0.1093, 0.0383, 0.0269, 0.0395,\n",
       "         0.0327, 0.0729, 0.0394, 0.0390, 0.0718, 0.0282, 0.1465, 0.0273, 0.0351,\n",
       "         0.0547, 0.0335],\n",
       "        [0.0389, 0.0558, 0.0632, 0.0276, 0.0453, 0.1051, 0.0394, 0.0253, 0.0303,\n",
       "         0.0378, 0.0519, 0.0412, 0.0310, 0.0845, 0.0274, 0.1656, 0.0262, 0.0195,\n",
       "         0.0511, 0.0329],\n",
       "        [0.0171, 0.0465, 0.0760, 0.0289, 0.0509, 0.0687, 0.0426, 0.0329, 0.0388,\n",
       "         0.0501, 0.0814, 0.0374, 0.0311, 0.0689, 0.0229, 0.1414, 0.0289, 0.0290,\n",
       "         0.0698, 0.0367],\n",
       "        [0.0200, 0.0411, 0.0581, 0.0316, 0.0384, 0.1152, 0.0531, 0.0377, 0.0394,\n",
       "         0.0462, 0.0558, 0.0393, 0.0426, 0.0820, 0.0248, 0.1152, 0.0372, 0.0278,\n",
       "         0.0488, 0.0459],\n",
       "        [0.0257, 0.0635, 0.0494, 0.0243, 0.0425, 0.0844, 0.0283, 0.0298, 0.0298,\n",
       "         0.0598, 0.0551, 0.0465, 0.0286, 0.0523, 0.0198, 0.1993, 0.0217, 0.0317,\n",
       "         0.0628, 0.0447],\n",
       "        [0.0269, 0.0514, 0.0591, 0.0178, 0.0459, 0.1032, 0.0387, 0.0536, 0.0418,\n",
       "         0.0723, 0.0447, 0.0507, 0.0467, 0.0494, 0.0393, 0.1173, 0.0282, 0.0253,\n",
       "         0.0534, 0.0345],\n",
       "        [0.0236, 0.0633, 0.0619, 0.0290, 0.0408, 0.0954, 0.0501, 0.0303, 0.0190,\n",
       "         0.0535, 0.0605, 0.0298, 0.0417, 0.0648, 0.0248, 0.1644, 0.0256, 0.0437,\n",
       "         0.0474, 0.0307],\n",
       "        [0.0188, 0.0577, 0.0620, 0.0294, 0.0455, 0.0921, 0.0367, 0.0352, 0.0283,\n",
       "         0.0462, 0.0680, 0.0415, 0.0321, 0.0912, 0.0215, 0.1431, 0.0235, 0.0346,\n",
       "         0.0612, 0.0313],\n",
       "        [0.0222, 0.0549, 0.0522, 0.0270, 0.0454, 0.0937, 0.0386, 0.0400, 0.0353,\n",
       "         0.0416, 0.0814, 0.0445, 0.0465, 0.0565, 0.0266, 0.1157, 0.0315, 0.0319,\n",
       "         0.0705, 0.0440]], grad_fn=<SoftmaxBackward0>)"
      ]
     },
     "execution_count": 25,
     "metadata": {},
     "output_type": "execute_result"
    }
   ],
   "source": [
    "# Just An evaluation run of the model\n",
    "input_ids = data['input_ids'].to(device)\n",
    "attention_mask = data['attention_mask'].to(device)\n",
    "F.softmax(model(input_ids,attention_mask), dim = 1)"
   ]
  },
  {
   "cell_type": "code",
   "execution_count": 26,
   "id": "d5ba6b15",
   "metadata": {},
   "outputs": [],
   "source": [
    "EPOCHS = 4\n",
    "\n",
    "optimizer = optim.AdamW(model.parameters(), lr= 2e-5, eps = 1e-8)\n",
    "\n",
    "total_steps = len(train_data_loader) * EPOCHS\n",
    "\n",
    "scheduler = get_linear_schedule_with_warmup(\n",
    "    optimizer, \n",
    "    num_warmup_steps = 0, \n",
    "    num_training_steps=total_steps)\n",
    "\n",
    "# For multi-class classification you would usually just use nn.CrossEntropyLoss \n",
    "loss_fn = nn.CrossEntropyLoss().to(device)"
   ]
  },
  {
   "cell_type": "code",
   "execution_count": null,
   "id": "0f3ad5c6",
   "metadata": {},
   "outputs": [],
   "source": [
    "%%time\n",
    "history = defaultdict(list)\n",
    "best_accuracy = 0\n",
    "\n",
    "for epoch in range(EPOCHS):\n",
    "    print(f'Epoch {epoch + 1}/ {EPOCHS}')\n",
    "    print('-'*15)\n",
    "    train_acc, train_loss = train_bert_model(model, train_data_loader, loss_fn, optimizer, device, scheduler, len(df_train))\n",
    "    print(f'Train loss {train_loss} accuracy {train_acc}')\n",
    "\n",
    "    val_acc, val_loss = eval_bert_model(model, val_data_loader, loss_fn, device, len(df_val))\n",
    "    print(f'Val loss {val_loss} accuracy {val_acc}')\n",
    "\n",
    "    history['train_acc'].append(train_acc)\n",
    "    history['train_loss'].append(train_loss)\n",
    "    history['val_acc'].append(val_acc)\n",
    "    history['val_loss'].append(val_loss)\n",
    "  \n",
    "    if val_acc>best_accuracy:\n",
    "        torch.save(model.state_dict(), 'best_model_state.bin')\n",
    "        best_accuracy = val_acc\n"
   ]
  },
  {
   "cell_type": "code",
   "execution_count": null,
   "id": "d65fa37b",
   "metadata": {},
   "outputs": [],
   "source": [
    "def show_confusion_matrix(confusion_matrix):\n",
    "    hmap = sns.heatmap(confusion_matrix, annot=True, fmt=\"d\", cmap=\"Blues\")\n",
    "    hmap.yaxis.set_ticklabels(hmap.yaxis.get_ticklabels(), rotation = 0, ha='right')\n",
    "    hmap.xaxis.set_ticklabels(hmap.xaxis.get_ticklabels(), rotation = 30, ha='right')\n",
    "    plt.ylabel('True Sentiment')\n",
    "    plt.xlabel('Predicted Sentiment')\n",
    "\n",
    "y_pred, y_pred_probs, y_test = get_bert_predictions(model, test_data_loader)"
   ]
  },
  {
   "cell_type": "code",
   "execution_count": null,
   "id": "297a2ec9",
   "metadata": {},
   "outputs": [
    {
     "name": "stdout",
     "output_type": "stream",
     "text": [
      "              precision    recall  f1-score   support\n",
      "\n",
      "           0       0.00      0.00      0.00        22\n",
      "           1       0.00      0.00      0.00        41\n",
      "           2       0.00      0.00      0.00       184\n",
      "           3       0.00      0.00      0.00        14\n",
      "           4       0.00      0.00      0.00        21\n",
      "           5       0.00      0.00      0.00        55\n",
      "           6       0.00      0.00      0.00        32\n",
      "           7       0.00      0.00      0.00        31\n",
      "           8       0.00      0.00      0.00         4\n",
      "           9       0.00      0.00      0.00        63\n",
      "          10       0.00      0.00      0.00         2\n",
      "          11       0.00      0.00      0.00         1\n",
      "          12       0.00      0.00      0.00        27\n",
      "          13       0.00      0.00      0.00        30\n",
      "          14       0.00      0.00      0.00        79\n",
      "          15       0.00      0.00      0.00        18\n",
      "          16       0.00      0.00      0.00        49\n",
      "          17       0.00      0.00      0.00        21\n",
      "          18       0.41      0.10      0.16        89\n",
      "          19       0.05      1.00      0.10        41\n",
      "\n",
      "    accuracy                           0.06       824\n",
      "   macro avg       0.02      0.06      0.01       824\n",
      "weighted avg       0.05      0.06      0.02       824\n",
      "\n"
     ]
    },
    {
     "name": "stderr",
     "output_type": "stream",
     "text": [
      "/Users/johnomole/anaconda3/lib/python3.10/site-packages/sklearn/metrics/_classification.py:1344: UndefinedMetricWarning: Precision and F-score are ill-defined and being set to 0.0 in labels with no predicted samples. Use `zero_division` parameter to control this behavior.\n",
      "  _warn_prf(average, modifier, msg_start, len(result))\n",
      "/Users/johnomole/anaconda3/lib/python3.10/site-packages/sklearn/metrics/_classification.py:1344: UndefinedMetricWarning: Precision and F-score are ill-defined and being set to 0.0 in labels with no predicted samples. Use `zero_division` parameter to control this behavior.\n",
      "  _warn_prf(average, modifier, msg_start, len(result))\n",
      "/Users/johnomole/anaconda3/lib/python3.10/site-packages/sklearn/metrics/_classification.py:1344: UndefinedMetricWarning: Precision and F-score are ill-defined and being set to 0.0 in labels with no predicted samples. Use `zero_division` parameter to control this behavior.\n",
      "  _warn_prf(average, modifier, msg_start, len(result))\n"
     ]
    }
   ],
   "source": [
    "print(classification_report(y_test, y_pred))"
   ]
  },
  {
   "cell_type": "code",
   "execution_count": null,
   "id": "9a371c2b",
   "metadata": {},
   "outputs": [
    {
     "data": {
      "image/png": "[encoded data removed]",
      "text/plain": [
       "<Figure size 640x480 with 2 Axes>"
      ]
     },
     "metadata": {},
     "output_type": "display_data"
    }
   ],
   "source": [
    "cm = confusion_matrix(y_test, y_pred)\n",
    "df_cm = pd.DataFrame(cm, index=class_names, columns = class_names)\n",
    "show_confusion_matrix(df_cm)"
   ]
  },
  {
   "cell_type": "code",
   "execution_count": null,
   "id": "ad761dfb",
   "metadata": {},
   "outputs": [],
   "source": [
    "torch.save(model.state_dict(), ' sentiment_model.pt')"
   ]
  },
  {
   "cell_type": "code",
   "execution_count": null,
   "id": "60ec0cec",
   "metadata": {},
   "outputs": [],
   "source": []
  }
 ],
 "metadata": {
  "kernelspec": {
   "display_name": "Python 3 (ipykernel)",
   "language": "python",
   "name": "python3"
  },
  "language_info": {
   "codemirror_mode": {
    "name": "ipython",
    "version": 3
   },
   "file_extension": ".py",
   "mimetype": "text/x-python",
   "name": "python",
   "nbconvert_exporter": "python",
   "pygments_lexer": "ipython3",
   "version": "3.10.9"
  }
 },
 "nbformat": 4,
 "nbformat_minor": 5
}
