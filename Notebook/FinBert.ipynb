{
 "cells": [
  {
   "cell_type": "code",
   "execution_count": null,
   "id": "645edffa",
   "metadata": {},
   "outputs": [],
   "source": []
  },
  {
   "cell_type": "code",
   "execution_count": null,
   "id": "95929a97",
   "metadata": {},
   "outputs": [],
   "source": []
  },
  {
   "cell_type": "markdown",
   "id": "609a3573",
   "metadata": {},
   "source": [
    "# FinBert Model Classification"
   ]
  },
  {
   "cell_type": "code",
   "execution_count": 13,
   "id": "30391482",
   "metadata": {},
   "outputs": [
    {
     "name": "stdout",
     "output_type": "stream",
     "text": [
      "Requirement already satisfied: transformers in /Users/johnomole/anaconda3/lib/python3.10/site-packages (4.24.0)\n",
      "Requirement already satisfied: filelock in /Users/johnomole/anaconda3/lib/python3.10/site-packages (from transformers) (3.13.1)\n",
      "Requirement already satisfied: huggingface-hub<1.0,>=0.10.0 in /Users/johnomole/anaconda3/lib/python3.10/site-packages (from transformers) (0.20.3)\n",
      "Requirement already satisfied: numpy>=1.17 in /Users/johnomole/anaconda3/lib/python3.10/site-packages (from transformers) (1.23.5)\n",
      "Requirement already satisfied: packaging>=20.0 in /Users/johnomole/anaconda3/lib/python3.10/site-packages (from transformers) (22.0)\n",
      "Requirement already satisfied: pyyaml>=5.1 in /Users/johnomole/anaconda3/lib/python3.10/site-packages (from transformers) (6.0)\n",
      "Requirement already satisfied: regex!=2019.12.17 in /Users/johnomole/anaconda3/lib/python3.10/site-packages (from transformers) (2022.7.9)\n",
      "Requirement already satisfied: requests in /Users/johnomole/anaconda3/lib/python3.10/site-packages (from transformers) (2.31.0)\n",
      "Requirement already satisfied: tokenizers!=0.11.3,<0.14,>=0.11.1 in /Users/johnomole/anaconda3/lib/python3.10/site-packages (from transformers) (0.11.4)\n",
      "Requirement already satisfied: tqdm>=4.27 in /Users/johnomole/anaconda3/lib/python3.10/site-packages (from transformers) (4.64.1)\n",
      "Requirement already satisfied: fsspec>=2023.5.0 in /Users/johnomole/anaconda3/lib/python3.10/site-packages (from huggingface-hub<1.0,>=0.10.0->transformers) (2023.10.0)\n",
      "Requirement already satisfied: typing-extensions>=3.7.4.3 in /Users/johnomole/anaconda3/lib/python3.10/site-packages (from huggingface-hub<1.0,>=0.10.0->transformers) (4.9.0)\n",
      "Requirement already satisfied: charset-normalizer<4,>=2 in /Users/johnomole/anaconda3/lib/python3.10/site-packages (from requests->transformers) (2.0.4)\n",
      "Requirement already satisfied: idna<4,>=2.5 in /Users/johnomole/anaconda3/lib/python3.10/site-packages (from requests->transformers) (3.4)\n",
      "Requirement already satisfied: urllib3<3,>=1.21.1 in /Users/johnomole/anaconda3/lib/python3.10/site-packages (from requests->transformers) (1.26.17)\n",
      "Requirement already satisfied: certifi>=2017.4.17 in /Users/johnomole/anaconda3/lib/python3.10/site-packages (from requests->transformers) (2023.5.7)\n"
     ]
    }
   ],
   "source": [
    "!pip install transformers"
   ]
  },
  {
   "cell_type": "code",
   "execution_count": 113,
   "id": "c6ae3af3",
   "metadata": {},
   "outputs": [],
   "source": [
    "from transformers import AutoTokenizer, AutoModelForSequenceClassification\n",
    "from transformers import pipeline"
   ]
  },
  {
   "cell_type": "code",
   "execution_count": 114,
   "id": "6e4cd891",
   "metadata": {},
   "outputs": [],
   "source": [
    "tokenizer = AutoTokenizer.from_pretrained(\"ProsusAI/finbert\")\n",
    "model = AutoModelForSequenceClassification.from_pretrained(\"ProsusAI/finbert\")"
   ]
  },
  {
   "cell_type": "code",
   "execution_count": 115,
   "id": "325e12ab",
   "metadata": {},
   "outputs": [],
   "source": [
    "pipe = pipeline(\"text-classification\", model=model, tokenizer=tokenizer)"
   ]
  },
  {
   "cell_type": "code",
   "execution_count": 116,
   "id": "08a632a0",
   "metadata": {},
   "outputs": [],
   "source": [
    "sentences = ['growth is strong and we have plenty of liquidity.', \n",
    "               'there is a shortage of capital, and we need extra financing.', \n",
    "              'formulation patents might protect Vasotec to a limited extent.']"
   ]
  },
  {
   "cell_type": "code",
   "execution_count": 117,
   "id": "c7583be4",
   "metadata": {},
   "outputs": [],
   "source": [
    "results = pipe(sentences)"
   ]
  },
  {
   "cell_type": "code",
   "execution_count": 118,
   "id": "5c98ca93",
   "metadata": {},
   "outputs": [
    {
     "data": {
      "text/plain": [
       "[{'label': 'positive', 'score': 0.897747278213501},\n",
       " {'label': 'negative', 'score': 0.8539325594902039},\n",
       " {'label': 'neutral', 'score': 0.8415032029151917}]"
      ]
     },
     "execution_count": 118,
     "metadata": {},
     "output_type": "execute_result"
    }
   ],
   "source": [
    "results"
   ]
  },
  {
   "cell_type": "code",
   "execution_count": 120,
   "id": "fc30f92d",
   "metadata": {},
   "outputs": [],
   "source": [
    "import pandas as pd\n",
    "import glob"
   ]
  },
  {
   "cell_type": "code",
   "execution_count": 121,
   "id": "2ec9e935",
   "metadata": {},
   "outputs": [],
   "source": [
    "file_path = '../Data/Prepared/NormalAnalysis/'"
   ]
  },
  {
   "cell_type": "code",
   "execution_count": 122,
   "id": "c947fd91",
   "metadata": {},
   "outputs": [],
   "source": [
    "files = glob.glob(f'{file_path}*.csv')"
   ]
  },
  {
   "cell_type": "code",
   "execution_count": 123,
   "id": "d820640c",
   "metadata": {},
   "outputs": [
    {
     "data": {
      "text/plain": [
       "['../Data/Prepared/NormalAnalysis/fin_phrase_TF_IDF.csv',\n",
       " '../Data/Prepared/NormalAnalysis/fin_phrase_bank_clean.csv',\n",
       " '../Data/Prepared/NormalAnalysis/Tweet_train_clean.csv',\n",
       " '../Data/Prepared/NormalAnalysis/Tweet_valid_clean.csv',\n",
       " '../Data/Prepared/NormalAnalysis/fin_report_df.csv']"
      ]
     },
     "execution_count": 123,
     "metadata": {},
     "output_type": "execute_result"
    }
   ],
   "source": [
    "files"
   ]
  },
  {
   "cell_type": "code",
   "execution_count": 124,
   "id": "7f883033",
   "metadata": {},
   "outputs": [],
   "source": [
    "df = pd.read_csv('../Data/Prepared/NormalAnalysis/Tweet_valid_clean.csv')"
   ]
  },
  {
   "cell_type": "code",
   "execution_count": 126,
   "id": "7f995534",
   "metadata": {},
   "outputs": [],
   "source": [
    "results = pipe(Tweet_valid_clean['clean_text'][1])"
   ]
  },
  {
   "cell_type": "code",
   "execution_count": 127,
   "id": "44882ecb",
   "metadata": {},
   "outputs": [
    {
     "data": {
      "text/plain": [
       "{'label': 'neutral', 'score': 0.8737570643424988}"
      ]
     },
     "execution_count": 127,
     "metadata": {},
     "output_type": "execute_result"
    }
   ],
   "source": [
    "results[0]"
   ]
  },
  {
   "cell_type": "code",
   "execution_count": 129,
   "id": "a8448465",
   "metadata": {},
   "outputs": [],
   "source": [
    "df['label'] = df['clean_text'].apply(lambda x: pipe(x)[0].get('label'))"
   ]
  },
  {
   "cell_type": "code",
   "execution_count": 130,
   "id": "ab9c9604",
   "metadata": {},
   "outputs": [],
   "source": [
    "df['score'] = df['clean_text'].apply(lambda x: pipe(x)[0].get('score'))"
   ]
  },
  {
   "cell_type": "code",
   "execution_count": 75,
   "id": "7af3e9f6",
   "metadata": {},
   "outputs": [
    {
     "data": {
      "text/html": [
       "<div>\n",
       "<style scoped>\n",
       "    .dataframe tbody tr th:only-of-type {\n",
       "        vertical-align: middle;\n",
       "    }\n",
       "\n",
       "    .dataframe tbody tr th {\n",
       "        vertical-align: top;\n",
       "    }\n",
       "\n",
       "    .dataframe thead th {\n",
       "        text-align: right;\n",
       "    }\n",
       "</style>\n",
       "<table border=\"1\" class=\"dataframe\">\n",
       "  <thead>\n",
       "    <tr style=\"text-align: right;\">\n",
       "      <th></th>\n",
       "      <th>text</th>\n",
       "      <th>label</th>\n",
       "      <th>clean_text</th>\n",
       "      <th>topic</th>\n",
       "      <th>score</th>\n",
       "    </tr>\n",
       "  </thead>\n",
       "  <tbody>\n",
       "    <tr>\n",
       "      <th>0</th>\n",
       "      <td>Analyst call of the day for @CNBCPro subscribe...</td>\n",
       "      <td>Positive</td>\n",
       "      <td>analyst call day cnbcpro subscriber goldman sa...</td>\n",
       "      <td>Analyst Update</td>\n",
       "      <td>0.999996</td>\n",
       "    </tr>\n",
       "    <tr>\n",
       "      <th>1</th>\n",
       "      <td>Loop upgrades CSX to buy, says it's a good pla...</td>\n",
       "      <td>Positive</td>\n",
       "      <td>loop upgrade csx buy say good place park money...</td>\n",
       "      <td>Analyst Update</td>\n",
       "      <td>0.999999</td>\n",
       "    </tr>\n",
       "    <tr>\n",
       "      <th>2</th>\n",
       "      <td>BofA believes we're already in a recession — a...</td>\n",
       "      <td>Neutral</td>\n",
       "      <td>bofa belief already recession say stock take b...</td>\n",
       "      <td>Analyst Update</td>\n",
       "      <td>0.893281</td>\n",
       "    </tr>\n",
       "    <tr>\n",
       "      <th>3</th>\n",
       "      <td>JPMorgan sees these derivative plays as best w...</td>\n",
       "      <td>Positive</td>\n",
       "      <td>jpmorgan see derivative play best way bet elec...</td>\n",
       "      <td>Analyst Update</td>\n",
       "      <td>0.999749</td>\n",
       "    </tr>\n",
       "    <tr>\n",
       "      <th>4</th>\n",
       "      <td>Morgan Stanley's Huberty sees Apple earnings m...</td>\n",
       "      <td>Negative</td>\n",
       "      <td>morgan stanley huberty see apple earnings miss...</td>\n",
       "      <td>Analyst Update</td>\n",
       "      <td>0.998763</td>\n",
       "    </tr>\n",
       "    <tr>\n",
       "      <th>...</th>\n",
       "      <td>...</td>\n",
       "      <td>...</td>\n",
       "      <td>...</td>\n",
       "      <td>...</td>\n",
       "      <td>...</td>\n",
       "    </tr>\n",
       "    <tr>\n",
       "      <th>4112</th>\n",
       "      <td>Dollar bonds of Chinese developers fall as str...</td>\n",
       "      <td>Neutral</td>\n",
       "      <td>dollar bond chinese developer fall stress spre...</td>\n",
       "      <td>Treasuries | Corporate Debt</td>\n",
       "      <td>0.996817</td>\n",
       "    </tr>\n",
       "    <tr>\n",
       "      <th>4113</th>\n",
       "      <td>Longer maturity Treasury yields have scope to ...</td>\n",
       "      <td>Neutral</td>\n",
       "      <td>longer maturity treasury yield scope go higher...</td>\n",
       "      <td>Treasuries | Corporate Debt</td>\n",
       "      <td>0.936138</td>\n",
       "    </tr>\n",
       "    <tr>\n",
       "      <th>4114</th>\n",
       "      <td>Pimco buys €1bn of Apollo buyout loans from ba...</td>\n",
       "      <td>Neutral</td>\n",
       "      <td>pimco buy bn apollo buyout loan bank http co n...</td>\n",
       "      <td>Treasuries | Corporate Debt</td>\n",
       "      <td>0.803428</td>\n",
       "    </tr>\n",
       "    <tr>\n",
       "      <th>4115</th>\n",
       "      <td>Analysis: Banks' snubbing of junk-rated loan f...</td>\n",
       "      <td>Negative</td>\n",
       "      <td>analysis bank snubbing junk rated loan fund wo...</td>\n",
       "      <td>Treasuries | Corporate Debt</td>\n",
       "      <td>0.579005</td>\n",
       "    </tr>\n",
       "    <tr>\n",
       "      <th>4116</th>\n",
       "      <td>U.S. Treasury seeks information on digital ass...</td>\n",
       "      <td>Neutral</td>\n",
       "      <td>u treasury seek information digital asset risk...</td>\n",
       "      <td>Treasuries | Corporate Debt</td>\n",
       "      <td>0.999947</td>\n",
       "    </tr>\n",
       "  </tbody>\n",
       "</table>\n",
       "<p>4117 rows × 5 columns</p>\n",
       "</div>"
      ],
      "text/plain": [
       "                                                   text     label  \\\n",
       "0     Analyst call of the day for @CNBCPro subscribe...  Positive   \n",
       "1     Loop upgrades CSX to buy, says it's a good pla...  Positive   \n",
       "2     BofA believes we're already in a recession — a...   Neutral   \n",
       "3     JPMorgan sees these derivative plays as best w...  Positive   \n",
       "4     Morgan Stanley's Huberty sees Apple earnings m...  Negative   \n",
       "...                                                 ...       ...   \n",
       "4112  Dollar bonds of Chinese developers fall as str...   Neutral   \n",
       "4113  Longer maturity Treasury yields have scope to ...   Neutral   \n",
       "4114  Pimco buys €1bn of Apollo buyout loans from ba...   Neutral   \n",
       "4115  Analysis: Banks' snubbing of junk-rated loan f...  Negative   \n",
       "4116  U.S. Treasury seeks information on digital ass...   Neutral   \n",
       "\n",
       "                                             clean_text  \\\n",
       "0     analyst call day cnbcpro subscriber goldman sa...   \n",
       "1     loop upgrade csx buy say good place park money...   \n",
       "2     bofa belief already recession say stock take b...   \n",
       "3     jpmorgan see derivative play best way bet elec...   \n",
       "4     morgan stanley huberty see apple earnings miss...   \n",
       "...                                                 ...   \n",
       "4112  dollar bond chinese developer fall stress spre...   \n",
       "4113  longer maturity treasury yield scope go higher...   \n",
       "4114  pimco buy bn apollo buyout loan bank http co n...   \n",
       "4115  analysis bank snubbing junk rated loan fund wo...   \n",
       "4116  u treasury seek information digital asset risk...   \n",
       "\n",
       "                            topic     score  \n",
       "0                  Analyst Update  0.999996  \n",
       "1                  Analyst Update  0.999999  \n",
       "2                  Analyst Update  0.893281  \n",
       "3                  Analyst Update  0.999749  \n",
       "4                  Analyst Update  0.998763  \n",
       "...                           ...       ...  \n",
       "4112  Treasuries | Corporate Debt  0.996817  \n",
       "4113  Treasuries | Corporate Debt  0.936138  \n",
       "4114  Treasuries | Corporate Debt  0.803428  \n",
       "4115  Treasuries | Corporate Debt  0.579005  \n",
       "4116  Treasuries | Corporate Debt  0.999947  \n",
       "\n",
       "[4117 rows x 5 columns]"
      ]
     },
     "execution_count": 75,
     "metadata": {},
     "output_type": "execute_result"
    }
   ],
   "source": [
    "df"
   ]
  },
  {
   "cell_type": "code",
   "execution_count": 84,
   "id": "721642c7",
   "metadata": {},
   "outputs": [
    {
     "data": {
      "text/plain": [
       "'$WIT - Wipro hit with double downgrade at Citi as Q1 earnings disappoints  https://t.co/IrJf5YboAN'"
      ]
     },
     "execution_count": 84,
     "metadata": {},
     "output_type": "execute_result"
    }
   ],
   "source": [
    "df[df['label'] == 'Negative'].iloc[2]['text']"
   ]
  },
  {
   "cell_type": "code",
   "execution_count": null,
   "id": "47187597",
   "metadata": {},
   "outputs": [],
   "source": []
  }
 ],
 "metadata": {
  "kernelspec": {
   "display_name": "Python 3 (ipykernel)",
   "language": "python",
   "name": "python3"
  },
  "language_info": {
   "codemirror_mode": {
    "name": "ipython",
    "version": 3
   },
   "file_extension": ".py",
   "mimetype": "text/x-python",
   "name": "python",
   "nbconvert_exporter": "python",
   "pygments_lexer": "ipython3",
   "version": "3.10.9"
  }
 },
 "nbformat": 4,
 "nbformat_minor": 5
}
