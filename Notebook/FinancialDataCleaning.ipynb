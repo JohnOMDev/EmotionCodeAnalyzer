{
 "cells": [
  {
   "cell_type": "markdown",
   "metadata": {},
   "source": [
    "# Data Pre-processing \n",
    "\n",
    "----------\n",
    "\n",
    "Download and inspect the data from the various sources:\n",
    "\n",
    "1. Financial Phrasebank https://huggingface.co/datasets/financial_phrasebank. Humanly annotated\n",
    "\n",
    "2. Financial tweets topics dataset: https://huggingface.co/datasets/zeroshot/twitter-financial-news-topic/viewer/default/train?p=169. Humanly annotated\n",
    "\n",
    "Think of any pre-processing functions (\n",
    "    Converting the text to lowercase,\n",
    "    removing punctuation,\n",
    "    tokenizing the text,\n",
    "    removing stop words and empty strings,\n",
    "    lemmatizing tokens.\n",
    ") that you might need to apply for downstream tasks. As always, pick a framework for data analysis and data exploration."
   ]
  },
  {
   "cell_type": "code",
   "execution_count": 1,
   "metadata": {},
   "outputs": [],
   "source": [
    "import pandas as pd\n",
    "import numpy as np\n",
    "import matplotlib.pyplot as plt\n",
    "import seaborn as sns\n"
   ]
  },
  {
   "cell_type": "code",
   "execution_count": 2,
   "metadata": {},
   "outputs": [],
   "source": [
    "from datasets import load_dataset\n",
    "\n",
    "dataset = load_dataset('financial_phrasebank', 'sentences_50agree')\n",
    "df_fin_phrase = pd.DataFrame(dataset['train'])\n"
   ]
  },
  {
   "cell_type": "code",
   "execution_count": 6,
   "metadata": {},
   "outputs": [],
   "source": [
    "writeDataToDisk(\"../Data/Raw/fin_phrase_bank.csv\",df_fin_phrase)"
   ]
  },
  {
   "cell_type": "code",
   "execution_count": 7,
   "metadata": {},
   "outputs": [],
   "source": [
    "df_tweet_topic_train = pd.read_csv('../Data/Raw/topic_train.csv')\n",
    "df_tweet_topic_valid = pd.read_csv('../Data/Raw/topic_valid.csv')\n",
    "df_fin_phrase = pd.read_csv('../Data/Raw/fin_phrase_bank.csv')"
   ]
  },
  {
   "cell_type": "code",
   "execution_count": 8,
   "metadata": {},
   "outputs": [],
   "source": [
    "topics = {\n",
    "    0 : \"Analyst Update\",\n",
    "    1: \"Fed | Central Banks\",\n",
    "    2: \"Company | Product News\",\n",
    "    3: \"Treasuries | Corporate Debt\",\n",
    "    4: \"Dividend\",\n",
    "    5: \"Earnings\",\n",
    "    6: \"Energy | Oil\",\n",
    "    7: \"Financials\",\n",
    "    8: \"Currencies\",\n",
    "    9: \"General News | Opinion\",\n",
    "    10: \"Gold | Metals | Materials\",\n",
    "    11: \"IPO\",\n",
    "    12: \"Legal | Regulation\",\n",
    "    13: \"M&A | Investments\",\n",
    "    14: \"Macro\",\n",
    "    15: \"Markets\",\n",
    "    16: \"Politics\",\n",
    "    17: \"Personnel Change\",\n",
    "    18: \"Stock Commentary\",\n",
    "    19: \"Stock Movement\"\n",
    "}"
   ]
  },
  {
   "cell_type": "code",
   "execution_count": 9,
   "metadata": {},
   "outputs": [],
   "source": [
    "sentiment = {\n",
    "    0: \"Negative\",\n",
    "    1: \"Neutral\",\n",
    "    2: \"Positive\"\n",
    "}"
   ]
  },
  {
   "cell_type": "code",
   "execution_count": 10,
   "metadata": {},
   "outputs": [],
   "source": [
    "import spacy\n",
    "nlp = spacy.load(\"en_core_web_sm\")"
   ]
  },
  {
   "cell_type": "code",
   "execution_count": 11,
   "metadata": {},
   "outputs": [],
   "source": [
    "\n",
    "\n",
    "\n",
    "def writeDataToDisk(output_filename, df ):\n",
    "    # TO-DO\n",
    "    df.to_csv(output_filename, index=False)\n",
    "    "
   ]
  },
  {
   "cell_type": "code",
   "execution_count": 85,
   "metadata": {},
   "outputs": [
    {
     "name": "stdout",
     "output_type": "stream",
     "text": [
      "Requirement already satisfied: nltk in /home/juann/anaconda3/envs/DDB/lib/python3.11/site-packages (3.8.1)\n",
      "Requirement already satisfied: click in /home/juann/anaconda3/envs/DDB/lib/python3.11/site-packages (from nltk) (8.1.3)\n",
      "Requirement already satisfied: joblib in /home/juann/anaconda3/envs/DDB/lib/python3.11/site-packages (from nltk) (1.2.0)\n",
      "Requirement already satisfied: regex>=2021.8.3 in /home/juann/anaconda3/envs/DDB/lib/python3.11/site-packages (from nltk) (2023.12.25)\n",
      "Requirement already satisfied: tqdm in /home/juann/anaconda3/envs/DDB/lib/python3.11/site-packages (from nltk) (4.65.0)\n",
      "Note: you may need to restart the kernel to use updated packages.\n"
     ]
    }
   ],
   "source": [
    "%pip install nltk"
   ]
  },
  {
   "cell_type": "code",
   "execution_count": 86,
   "metadata": {},
   "outputs": [
    {
     "name": "stderr",
     "output_type": "stream",
     "text": [
      "[nltk_data] Downloading package punkt to /home/juann/nltk_data...\n",
      "[nltk_data]   Package punkt is already up-to-date!\n",
      "[nltk_data] Downloading package stopwords to /home/juann/nltk_data...\n",
      "[nltk_data]   Package stopwords is already up-to-date!\n",
      "[nltk_data] Downloading package wordnet to /home/juann/nltk_data...\n",
      "[nltk_data]   Package wordnet is already up-to-date!\n"
     ]
    },
    {
     "data": {
      "text/plain": [
       "True"
      ]
     },
     "execution_count": 86,
     "metadata": {},
     "output_type": "execute_result"
    }
   ],
   "source": [
    "import nltk\n",
    "nltk.download('punkt')\n",
    "nltk.download('stopwords')\n",
    "nltk.download('wordnet')\n"
   ]
  },
  {
   "cell_type": "code",
   "execution_count": 15,
   "metadata": {},
   "outputs": [],
   "source": [
    "from nltk.tokenize import word_tokenize\n",
    "from nltk.corpus import stopwords\n",
    "from nltk.stem import WordNetLemmatizer\n",
    "import re\n",
    "import string\n"
   ]
  },
  {
   "cell_type": "code",
   "execution_count": 34,
   "metadata": {},
   "outputs": [],
   "source": [
    "def clean_text(text):\n",
    "    # remove URLS\n",
    "    text = re.sub(r'http\\S+', '', text)\n",
    "    # replace % with percent\n",
    "    text = re.sub(r'%', ' percent', text)\n",
    "    # remove punctuation at the end of words\n",
    "    text = re.sub(r'[.,!?]', '', text)\n",
    "    # remove special characters except fo decimal points\n",
    "    text = re.sub(r'[^a-zA-Z\\s.]', '', text)\n",
    "    # remove extra spaces\n",
    "    text = re.sub(r'\\s+', ' ', text)\n",
    "    # remove leading and trailing spaces\n",
    "    text = re.sub(r'^\\s+|\\s+?$', '', text.lower())\n",
    "    return text\n",
    "\n",
    "\n",
    "def remove_stopwords(text):\n",
    "    words = [word for word in text if word not in stopwords.words('english')]\n",
    "    return words\n",
    "\n",
    "def lemmatize(text):\n",
    "    lemmatizer = WordNetLemmatizer()\n",
    "    words = [lemmatizer.lemmatize(word) for word in text]\n",
    "    return words\n",
    "\n",
    "\n",
    "\n",
    "def preprocess_text(text):\n",
    "    text = text.lower()\n",
    "    text = clean_text(text)\n",
    "    text = word_tokenize(text)\n",
    "    text = remove_stopwords(text)\n",
    "    text = lemmatize(text)\n",
    "    return text\n",
    "\n",
    "\n"
   ]
  },
  {
   "cell_type": "code",
   "execution_count": 35,
   "metadata": {},
   "outputs": [
    {
     "data": {
      "text/plain": [
       "Index(['sentence', 'label', 'clean_text', 'sentiment'], dtype='object')"
      ]
     },
     "execution_count": 35,
     "metadata": {},
     "output_type": "execute_result"
    }
   ],
   "source": [
    "df_fin_phrase.columns"
   ]
  },
  {
   "cell_type": "code",
   "execution_count": 41,
   "metadata": {},
   "outputs": [],
   "source": [
    "df_fin_phrase['clean_text'] = df_fin_phrase['sentence'].apply(preprocess_text)\n",
    "df_tweet_topic_train['clean_text'] = df_tweet_topic_train['text'].apply(preprocess_text)\n",
    "df_tweet_topic_valid['clean_text'] = df_tweet_topic_valid['text'].apply(preprocess_text)"
   ]
  },
  {
   "cell_type": "code",
   "execution_count": 39,
   "metadata": {},
   "outputs": [],
   "source": [
    "df_tweet_topic_valid['topic'] = df_tweet_topic_valid['label'].apply(lambda x: topics[x])\n",
    "df_tweet_topic_train['topic'] = df_tweet_topic_train['label'].apply(lambda x: topics[x])\n",
    "df_fin_phrase['sentiment'] = df_fin_phrase['label'].apply(lambda x: sentiment[x])"
   ]
  },
  {
   "cell_type": "code",
   "execution_count": 40,
   "metadata": {},
   "outputs": [],
   "source": [
    "writeDataToDisk(\"../Data/Prepared/Tweet_valid_clean.csv\",df_tweet_topic_valid)\n",
    "writeDataToDisk(\"../Data/Prepared/Tweet_train_clean.csv\",df_tweet_topic_train)\n",
    "writeDataToDisk(\"../Data/Prepared/fin_phrase_bank_clean.csv\",df_fin_phrase)"
   ]
  }
 ],
 "metadata": {
  "kernelspec": {
   "display_name": "DDB",
   "language": "python",
   "name": "python3"
  },
  "language_info": {
   "codemirror_mode": {
    "name": "ipython",
    "version": 3
   },
   "file_extension": ".py",
   "mimetype": "text/x-python",
   "name": "python",
   "nbconvert_exporter": "python",
   "pygments_lexer": "ipython3",
   "version": "3.11.4"
  }
 },
 "nbformat": 4,
 "nbformat_minor": 2
}
